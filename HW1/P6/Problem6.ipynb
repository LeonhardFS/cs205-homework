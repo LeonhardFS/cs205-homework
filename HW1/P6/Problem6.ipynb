{
 "cells": [
  {
   "cell_type": "markdown",
   "metadata": {},
   "source": [
    "# Problem 6"
   ]
  },
  {
   "cell_type": "code",
   "execution_count": 1,
   "metadata": {
    "collapsed": true
   },
   "outputs": [],
   "source": [
    "import findspark\n",
    "findspark.init()\n",
    "\n",
    "from pyspark import SparkContext, SparkConf\n",
    "import seaborn as sns\n",
    "sns.set_style(\"whitegrid\")\n",
    "import matplotlib.ticker as ticker   \n",
    "\n",
    "import numpy as np\n",
    "from scipy import stats\n",
    "\n",
    "# setup spark\n",
    "conf = SparkConf().setAppName('MarkovShakespeare')\n",
    "sc = SparkContext(conf=conf)"
   ]
  },
  {
   "cell_type": "code",
   "execution_count": 2,
   "metadata": {
    "collapsed": false
   },
   "outputs": [
    {
     "data": {
      "text/plain": [
       "('pg100.txt', <httplib.HTTPMessage instance at 0x1133bf6c8>)"
      ]
     },
     "execution_count": 2,
     "metadata": {},
     "output_type": "execute_result"
    }
   ],
   "source": [
    "# load textlist from net\n",
    "filename = \"pg100.txt\"\n",
    "\n",
    "url = \"http://www.gutenberg.org/cache/epub/100/pg100.txt\"\n",
    "\n",
    "import urllib\n",
    "\n",
    "wordfile = urllib.URLopener()\n",
    "wordfile.retrieve(url, filename)"
   ]
  },
  {
   "cell_type": "code",
   "execution_count": 3,
   "metadata": {
    "collapsed": false
   },
   "outputs": [
    {
     "name": "stdout",
     "output_type": "stream",
     "text": [
      "True\n"
     ]
    },
    {
     "data": {
      "text/plain": [
       "True"
      ]
     },
     "execution_count": 3,
     "metadata": {},
     "output_type": "execute_result"
    }
   ],
   "source": [
    "# the texts from shakespeare are contained in lines 182 - 124367\n",
    "# create the file Shakespeare.txt using the line range from above\n",
    "# if all is ok, this should return True, True\n",
    "with open(filename, 'r') as f:\n",
    "    lines = f.readlines()\n",
    "    lines = lines[181:124367]\n",
    "    with open('Shakespeare.txt', 'w') as f2:\n",
    "        f2.writelines(lines)\n",
    "    print f2.closed\n",
    "f.closed"
   ]
  },
  {
   "cell_type": "code",
   "execution_count": 371,
   "metadata": {
    "collapsed": false
   },
   "outputs": [],
   "source": [
    "# filtering is done by spark\n",
    "words = sc.textFile('Shakespeare.txt')"
   ]
  },
  {
   "cell_type": "code",
   "execution_count": 372,
   "metadata": {
    "collapsed": false
   },
   "outputs": [],
   "source": [
    "# split lines into words (after whitespace)\n",
    "# before splitting replace first some escape characters with white space\n",
    "rdd = words.flatMap(lambda line: line.replace('\\n', ' ').replace('\\r', ' ').split(' '))"
   ]
  },
  {
   "cell_type": "code",
   "execution_count": 373,
   "metadata": {
    "collapsed": false
   },
   "outputs": [],
   "source": [
    "# now perform filtering on the words\n",
    "# to develop the regular expression this awesome tool was used https://regex101.com\n",
    "\n",
    "# (1) filter out words that only contain numbers\n",
    "# (2) filter out words for which all letters are capitalized\n",
    "# (3) filter out words that contain letters only and end with a period\n",
    "import re\n",
    "\n",
    "pattern1 = re.compile(ur'([0-9]+\\.?)|\\.')  # use only a simple RE for numbers here (numbers in the shakespeare text are formateed as 1., 2., ...)\n",
    "pattern2 = re.compile(ur'(\\b[A-Z]+\\.?\\b)|\\.') # ==> do (2) & (3) together in one regex!\n",
    "\n",
    "# filter does not change the order\n",
    "\n",
    "# FILTERING DOES NOT WORK YET GOOD!\n",
    "\n",
    "# first pattern works, second has troubles!\n",
    "rdd = rdd.filter(lambda x: pattern1.match(x) is None).filter(lambda x: pattern2.match(x) is None).filter(lambda x: len(x) > 0)"
   ]
  },
  {
   "cell_type": "code",
   "execution_count": 374,
   "metadata": {
    "collapsed": false
   },
   "outputs": [
    {
     "data": {
      "text/plain": [
       "[u'From', u'fairest', u'creatures', u'we', u'desire']"
      ]
     },
     "execution_count": 374,
     "metadata": {},
     "output_type": "execute_result"
    }
   ],
   "source": [
    "rdd.take(5)"
   ]
  },
  {
   "cell_type": "code",
   "execution_count": 375,
   "metadata": {
    "collapsed": true
   },
   "outputs": [],
   "source": [
    "# zip with index\n",
    "rdd = rdd.zipWithIndex()"
   ]
  },
  {
   "cell_type": "code",
   "execution_count": 376,
   "metadata": {
    "collapsed": false
   },
   "outputs": [
    {
     "data": {
      "text/plain": [
       "[(u'From', 0), (u'fairest', 1), (u'creatures', 2), (u'we', 3), (u'desire', 4)]"
      ]
     },
     "execution_count": 376,
     "metadata": {},
     "output_type": "execute_result"
    }
   ],
   "source": [
    "rdd.take(5)"
   ]
  },
  {
   "cell_type": "code",
   "execution_count": 377,
   "metadata": {
    "collapsed": false
   },
   "outputs": [
    {
     "data": {
      "text/plain": [
       "[231,\n",
       " 1679,\n",
       " 2628,\n",
       " 8288,\n",
       " 8303,\n",
       " 9921,\n",
       " 11886,\n",
       " 12226,\n",
       " 15578,\n",
       " 18590,\n",
       " 20856,\n",
       " 20869,\n",
       " 30398,\n",
       " 30641,\n",
       " 30703,\n",
       " 30970,\n",
       " 32002,\n",
       " 37716,\n",
       " 39790,\n",
       " 41863,\n",
       " 43033,\n",
       " 45639,\n",
       " 53116,\n",
       " 53378,\n",
       " 55072,\n",
       " 55585,\n",
       " 55796,\n",
       " 56124,\n",
       " 58337,\n",
       " 59529,\n",
       " 62304,\n",
       " 62646,\n",
       " 62695,\n",
       " 62924,\n",
       " 64717,\n",
       " 65302,\n",
       " 67966,\n",
       " 72392,\n",
       " 76689,\n",
       " 76709,\n",
       " 76734,\n",
       " 78717,\n",
       " 87425,\n",
       " 89825,\n",
       " 97288,\n",
       " 101984,\n",
       " 102526,\n",
       " 105785,\n",
       " 105978,\n",
       " 106896,\n",
       " 107666,\n",
       " 109396,\n",
       " 112407,\n",
       " 113437,\n",
       " 115209,\n",
       " 115612,\n",
       " 116751,\n",
       " 117167,\n",
       " 118609,\n",
       " 119434,\n",
       " 132951,\n",
       " 133281,\n",
       " 134639,\n",
       " 136073,\n",
       " 139888,\n",
       " 144384,\n",
       " 150076,\n",
       " 153394,\n",
       " 153465,\n",
       " 157526,\n",
       " 158043,\n",
       " 160556,\n",
       " 163346,\n",
       " 163594,\n",
       " 164038,\n",
       " 165763,\n",
       " 166266,\n",
       " 167516,\n",
       " 169164,\n",
       " 169828,\n",
       " 175563,\n",
       " 177137,\n",
       " 178671,\n",
       " 179143,\n",
       " 182482,\n",
       " 184731,\n",
       " 189301,\n",
       " 189467,\n",
       " 189588,\n",
       " 196925,\n",
       " 197002,\n",
       " 205158,\n",
       " 209234,\n",
       " 209261,\n",
       " 216733,\n",
       " 218172,\n",
       " 218717,\n",
       " 227746,\n",
       " 230690,\n",
       " 230715,\n",
       " 230918,\n",
       " 235930,\n",
       " 236026,\n",
       " 236665,\n",
       " 236681,\n",
       " 237222,\n",
       " 237281,\n",
       " 238051,\n",
       " 239600,\n",
       " 240967,\n",
       " 241433,\n",
       " 244106,\n",
       " 245124,\n",
       " 246651,\n",
       " 246685,\n",
       " 254591,\n",
       " 254817,\n",
       " 257436,\n",
       " 260253,\n",
       " 260371,\n",
       " 261296,\n",
       " 261840,\n",
       " 262274,\n",
       " 262597,\n",
       " 263256,\n",
       " 264337,\n",
       " 268721,\n",
       " 269072,\n",
       " 269157,\n",
       " 269928,\n",
       " 269953,\n",
       " 270315,\n",
       " 270756,\n",
       " 273883,\n",
       " 274508,\n",
       " 274996,\n",
       " 275922,\n",
       " 276095,\n",
       " 276150,\n",
       " 276330,\n",
       " 277854,\n",
       " 278135,\n",
       " 285535,\n",
       " 286099,\n",
       " 288289,\n",
       " 289269,\n",
       " 295036,\n",
       " 296136,\n",
       " 296480,\n",
       " 297527,\n",
       " 298003,\n",
       " 298802,\n",
       " 298940,\n",
       " 299129,\n",
       " 299949,\n",
       " 303822,\n",
       " 304080,\n",
       " 306202,\n",
       " 306845,\n",
       " 308031,\n",
       " 308624,\n",
       " 309482,\n",
       " 309779,\n",
       " 309817,\n",
       " 310644,\n",
       " 312913,\n",
       " 312931,\n",
       " 312956,\n",
       " 314254,\n",
       " 314473,\n",
       " 314876,\n",
       " 316040,\n",
       " 317372,\n",
       " 317526,\n",
       " 318113,\n",
       " 319426,\n",
       " 320590,\n",
       " 321329,\n",
       " 322214,\n",
       " 323242,\n",
       " 323371,\n",
       " 323879,\n",
       " 324858,\n",
       " 326275,\n",
       " 326960,\n",
       " 328020,\n",
       " 328680,\n",
       " 329871,\n",
       " 332217,\n",
       " 332394,\n",
       " 334561,\n",
       " 338226,\n",
       " 338801,\n",
       " 339257,\n",
       " 342504,\n",
       " 346045,\n",
       " 349720,\n",
       " 349870,\n",
       " 353282,\n",
       " 353473,\n",
       " 355446,\n",
       " 361211,\n",
       " 363115,\n",
       " 363541,\n",
       " 367933,\n",
       " 367955,\n",
       " 367985,\n",
       " 368064,\n",
       " 369609,\n",
       " 372099,\n",
       " 374074,\n",
       " 375967,\n",
       " 376343,\n",
       " 379199,\n",
       " 384109,\n",
       " 384129,\n",
       " 385122,\n",
       " 387491,\n",
       " 388438,\n",
       " 389183,\n",
       " 389854,\n",
       " 389862,\n",
       " 389932,\n",
       " 390848,\n",
       " 392798,\n",
       " 392802,\n",
       " 397176,\n",
       " 404136,\n",
       " 405811,\n",
       " 406190,\n",
       " 406625,\n",
       " 408823,\n",
       " 411600,\n",
       " 413205,\n",
       " 415018,\n",
       " 417178,\n",
       " 419913,\n",
       " 420669,\n",
       " 422520,\n",
       " 424155,\n",
       " 424194,\n",
       " 424505,\n",
       " 425190,\n",
       " 428838,\n",
       " 429323,\n",
       " 430567,\n",
       " 434599,\n",
       " 443131,\n",
       " 445990,\n",
       " 446234,\n",
       " 447065,\n",
       " 447528,\n",
       " 449954,\n",
       " 451924,\n",
       " 452319,\n",
       " 453499,\n",
       " 453510,\n",
       " 453526,\n",
       " 454755,\n",
       " 457591,\n",
       " 461809,\n",
       " 463257,\n",
       " 469800,\n",
       " 471467,\n",
       " 472805,\n",
       " 474104,\n",
       " 484223,\n",
       " 487428,\n",
       " 490049,\n",
       " 496156,\n",
       " 498317,\n",
       " 508161,\n",
       " 510218,\n",
       " 512705,\n",
       " 513582,\n",
       " 515424,\n",
       " 516222,\n",
       " 520368,\n",
       " 523311,\n",
       " 525884,\n",
       " 527021,\n",
       " 527775,\n",
       " 528132,\n",
       " 528137,\n",
       " 529696,\n",
       " 529724,\n",
       " 530377,\n",
       " 532682,\n",
       " 533296,\n",
       " 533299,\n",
       " 533317,\n",
       " 533715,\n",
       " 533736,\n",
       " 533759,\n",
       " 533806,\n",
       " 534077,\n",
       " 535835,\n",
       " 541557,\n",
       " 541560,\n",
       " 542106,\n",
       " 543371,\n",
       " 554551,\n",
       " 563135,\n",
       " 564210,\n",
       " 570737,\n",
       " 570992,\n",
       " 573239,\n",
       " 573382,\n",
       " 573395,\n",
       " 573581,\n",
       " 580799,\n",
       " 582262,\n",
       " 582366,\n",
       " 585080,\n",
       " 586191,\n",
       " 586341,\n",
       " 587123,\n",
       " 587330,\n",
       " 587621,\n",
       " 589137,\n",
       " 589227,\n",
       " 589371,\n",
       " 589380,\n",
       " 590675,\n",
       " 597426,\n",
       " 597586,\n",
       " 602060,\n",
       " 603149,\n",
       " 603181,\n",
       " 608595,\n",
       " 608991,\n",
       " 611308,\n",
       " 613287,\n",
       " 617243,\n",
       " 617945,\n",
       " 618980,\n",
       " 624058,\n",
       " 629272,\n",
       " 631207,\n",
       " 634051,\n",
       " 636831,\n",
       " 637294,\n",
       " 637328,\n",
       " 637700,\n",
       " 640420,\n",
       " 640796,\n",
       " 641598,\n",
       " 641868,\n",
       " 642403,\n",
       " 646309,\n",
       " 648239,\n",
       " 649412,\n",
       " 660493,\n",
       " 661356,\n",
       " 664776,\n",
       " 665149,\n",
       " 666043,\n",
       " 666582,\n",
       " 667154,\n",
       " 668399,\n",
       " 668807,\n",
       " 669885,\n",
       " 669993,\n",
       " 672417,\n",
       " 673178,\n",
       " 673511,\n",
       " 674057,\n",
       " 675627,\n",
       " 676247,\n",
       " 676819,\n",
       " 677817,\n",
       " 678188,\n",
       " 678266,\n",
       " 678401,\n",
       " 686751,\n",
       " 687482,\n",
       " 687939,\n",
       " 689314,\n",
       " 689569,\n",
       " 690073,\n",
       " 690991,\n",
       " 692116,\n",
       " 692132,\n",
       " 692195,\n",
       " 696710,\n",
       " 698725,\n",
       " 699829,\n",
       " 699849,\n",
       " 701489,\n",
       " 709470,\n",
       " 709487,\n",
       " 714086,\n",
       " 715723,\n",
       " 716827,\n",
       " 716964,\n",
       " 717411,\n",
       " 718895,\n",
       " 719113,\n",
       " 719741,\n",
       " 719821,\n",
       " 720224,\n",
       " 720322,\n",
       " 720399,\n",
       " 720685,\n",
       " 722905,\n",
       " 723825,\n",
       " 725700,\n",
       " 727415,\n",
       " 728099,\n",
       " 728689,\n",
       " 729668,\n",
       " 729718,\n",
       " 729739,\n",
       " 730485,\n",
       " 730525,\n",
       " 730606,\n",
       " 734829,\n",
       " 734869,\n",
       " 735875,\n",
       " 738555,\n",
       " 739530,\n",
       " 744529,\n",
       " 746652,\n",
       " 748595,\n",
       " 751982,\n",
       " 752042,\n",
       " 753851,\n",
       " 754259,\n",
       " 754564,\n",
       " 754919,\n",
       " 758523,\n",
       " 758619,\n",
       " 761007,\n",
       " 762759,\n",
       " 763479,\n",
       " 763722,\n",
       " 764956,\n",
       " 768205,\n",
       " 771480,\n",
       " 771696,\n",
       " 775595,\n",
       " 776838,\n",
       " 778250,\n",
       " 778329,\n",
       " 779209,\n",
       " 779217,\n",
       " 779236,\n",
       " 779263,\n",
       " 779273,\n",
       " 780439,\n",
       " 780447,\n",
       " 781610,\n",
       " 782382,\n",
       " 784915,\n",
       " 785120,\n",
       " 785161,\n",
       " 786519,\n",
       " 790434,\n",
       " 793050,\n",
       " 793271,\n",
       " 797394,\n",
       " 799906,\n",
       " 800407,\n",
       " 802173,\n",
       " 802405,\n",
       " 802504,\n",
       " 804194,\n",
       " 808056,\n",
       " 813086,\n",
       " 814389]"
      ]
     },
     "execution_count": 377,
     "metadata": {},
     "output_type": "execute_result"
    }
   ],
   "source": [
    "rdd.map(lambda x:x).lookup(u'Now')"
   ]
  },
  {
   "cell_type": "code",
   "execution_count": 378,
   "metadata": {
    "collapsed": true
   },
   "outputs": [],
   "source": [
    "# map to list\n",
    "rdd = rdd.flatMap(lambda x: [(x[1], (0, x[0])), (x[1] - 1, (1, x[0])), (x[1] - 2, (2, x[0]))])"
   ]
  },
  {
   "cell_type": "code",
   "execution_count": 379,
   "metadata": {
    "collapsed": false
   },
   "outputs": [],
   "source": [
    "#rdd.take(5)"
   ]
  },
  {
   "cell_type": "code",
   "execution_count": 380,
   "metadata": {
    "collapsed": true
   },
   "outputs": [],
   "source": [
    "rdd = rdd.groupByKey()"
   ]
  },
  {
   "cell_type": "code",
   "execution_count": 381,
   "metadata": {
    "collapsed": false
   },
   "outputs": [],
   "source": [
    "#rdd.take(5)"
   ]
  },
  {
   "cell_type": "code",
   "execution_count": 382,
   "metadata": {
    "collapsed": true
   },
   "outputs": [],
   "source": [
    "# map (keyA, (keyA, wordA), (keyA + 1, wordA+1), (keyA + 2, wordA+2)) to (wordA, wordA+1, wordA+2)\n",
    "fun = lambda x: list(x[1])\n",
    "rdd = rdd.map(fun)"
   ]
  },
  {
   "cell_type": "code",
   "execution_count": 383,
   "metadata": {
    "collapsed": true
   },
   "outputs": [],
   "source": [
    "# HIER NOCH UNBEDINGT ALLE TUPEL RAUSSCHMEISSEN, DEREN LISTE != 3 Elemente enthaelt\n",
    "rdd = rdd.filter(lambda x: len(x) == 3)"
   ]
  },
  {
   "cell_type": "code",
   "execution_count": 384,
   "metadata": {
    "collapsed": false
   },
   "outputs": [],
   "source": [
    "# map such that the three words form the key with value 1, we use that then to sum up everything\n",
    "#gfun = lambda x: ((x[0][1], x[1][1], x[2][1]), 1)\n",
    "\n",
    "# try to combine\n",
    "gfun = lambda x: ((x[0][1], x[1][1], x[2][1]), 1)\n",
    "#gfun = lambda x: (x[0][1], 1)\n",
    "#rdd = rdd.map(gfun)"
   ]
  },
  {
   "cell_type": "code",
   "execution_count": 385,
   "metadata": {
    "collapsed": false
   },
   "outputs": [],
   "source": [
    "rdd = rdd.map(gfun)"
   ]
  },
  {
   "cell_type": "code",
   "execution_count": 386,
   "metadata": {
    "collapsed": false
   },
   "outputs": [],
   "source": [
    "#temp.take(20)"
   ]
  },
  {
   "cell_type": "code",
   "execution_count": 387,
   "metadata": {
    "collapsed": false
   },
   "outputs": [],
   "source": [
    "rdd = rdd.reduceByKey(lambda x,y:x+y)\n",
    "#temp.take(5)"
   ]
  },
  {
   "cell_type": "code",
   "execution_count": 388,
   "metadata": {
    "collapsed": true
   },
   "outputs": [],
   "source": [
    "# remap form\n",
    "rdd = rdd.map(lambda x: ((x[0][0], x[0][1]), (x[0][2], x[1])))"
   ]
  },
  {
   "cell_type": "code",
   "execution_count": null,
   "metadata": {
    "collapsed": false
   },
   "outputs": [],
   "source": []
  },
  {
   "cell_type": "code",
   "execution_count": 389,
   "metadata": {
    "collapsed": true
   },
   "outputs": [],
   "source": [
    "# final group by key\n",
    "# maybe sort list after it!!!\n",
    "rdd = rdd.groupByKey().map(lambda x: (x[0], sorted(list(x[1])) ))"
   ]
  },
  {
   "cell_type": "code",
   "execution_count": null,
   "metadata": {
    "collapsed": false
   },
   "outputs": [],
   "source": []
  },
  {
   "cell_type": "code",
   "execution_count": 390,
   "metadata": {
    "collapsed": false
   },
   "outputs": [],
   "source": [
    "test = rdd.map(lambda x: x).lookup((u'Now', u'is'))"
   ]
  },
  {
   "cell_type": "code",
   "execution_count": 392,
   "metadata": {
    "collapsed": false
   },
   "outputs": [
    {
     "data": {
      "text/plain": [
       "[[(u'Mortimer', 1),\n",
       "  (u'a', 1),\n",
       "  (u'be', 1),\n",
       "  (u'he', 1),\n",
       "  (u'his', 1),\n",
       "  (u'it', 3),\n",
       "  (u'my', 2),\n",
       "  (u'that', 1),\n",
       "  (u'the', 9),\n",
       "  (u'this', 1),\n",
       "  (u'your', 1)]]"
      ]
     },
     "execution_count": 392,
     "metadata": {},
     "output_type": "execute_result"
    }
   ],
   "source": [
    "test"
   ]
  },
  {
   "cell_type": "code",
   "execution_count": 620,
   "metadata": {
    "collapsed": false
   },
   "outputs": [
    {
     "data": {
      "text/plain": [
       "(u'Now', u'is')"
      ]
     },
     "execution_count": 620,
     "metadata": {},
     "output_type": "execute_result"
    }
   ],
   "source": [
    "# now, it is time to start the Markov chain!\n",
    "cur_sample = [((u'Now', u'is'), test[0])][0]\n",
    "#cur_phrase = rdd.takeSample(False, 1)[0]\n",
    "cur_phrase = cur_sample[0]\n",
    "cur_phrase"
   ]
  },
  {
   "cell_type": "code",
   "execution_count": 621,
   "metadata": {
    "collapsed": false
   },
   "outputs": [],
   "source": []
  },
  {
   "cell_type": "code",
   "execution_count": 646,
   "metadata": {
    "collapsed": false
   },
   "outputs": [],
   "source": [
    "# how long shall the phrase be?\n",
    "num_words = 20"
   ]
  },
  {
   "cell_type": "code",
   "execution_count": 647,
   "metadata": {
    "collapsed": false
   },
   "outputs": [
    {
     "name": "stdout",
     "output_type": "stream",
     "text": [
      "0th sample is ((u'Wife!', u'What,'), [(u'ho!', 1)])\n",
      "next word is   ho!\n",
      "(u'What,', u'ho!')\n",
      "1th sample is ((u'What,', u'ho!'), [(u'My', 1), (u'No', 1), (u'Peace', 1), (u'Sicinius!', 1), (u'They', 1), (u'What,', 3), (u'[Enter', 1), (u'apothecary!', 1), (u'chamberlain!', 1), (u'help,', 1), (u'messenger', 1), (u'my', 2), (u'the', 1), (u'you', 1)])\n",
      "next word is   My\n",
      "(u'ho!', u'My')\n",
      "2th sample is ((u'ho!', u'My'), [(u'lord!', 2)])\n",
      "next word is   lord!\n",
      "(u'My', u'lord!')\n",
      "3th sample is ((u'My', u'lord!'), [(u'Good', 1), (u'My', 1), (u\"What's\", 1), (u'Your', 1), (u'Zounds,', 1), (u'my', 3), (u'will', 1), (u\"wither'd\", 1)])\n",
      "next word is   will\n",
      "(u'lord!', u'will')\n",
      "4th sample is ((u'lord!', u'will'), [(u'be', 2), (u'dispatch', 1)])\n",
      "next word is   be\n",
      "(u'will', u'be')\n",
      "5th sample is ((u'will', u'be'), [(u'Absolute', 1), (u'Both', 1), (u'Cleopatra.', 1), (u\"Edward's\", 1), (u'God', 1), (u\"Humphrey's\", 1), (u'King', 1), (u'King,', 2), (u'Protector,', 1), (u'Romeo.', 1), (u'That', 1), (u'The', 2), (u'a', 12), (u'absence', 1), (u'all', 1), (u'an', 2), (u'angry.', 1), (u'angry;', 1), (u'as', 2), (u\"assur'd\", 1), (u'at', 1), (u'augmented', 1), (u'avenged', 1), (u'beaten', 1), (u'bitter', 1), (u'blown', 1), (u'bold', 2), (u'born.', 1), (u'bound', 1), (u'bridegroom', 1), (u'bridled', 1), (u'brief', 1), (u'brief,', 1), (u'brief.', 2), (u'bright', 1), (u'burnt', 1), (u'but', 2), (u'cheaters', 1), (u'considered.', 1), (u'content', 1), (u'correspondent', 1), (u'cruel', 1), (u\"damn'd\", 1), (u'dangerous', 1), (u'dead', 1), (u'deaf', 1), (u\"defil'd.\", 1), (u'delivered.', 1), (u'dinner-time;', 1), (u\"disturb'd\", 1), (u\"dogg'd\", 1), (u'done', 1), (u'done!', 1), (u'done.', 1), (u'ere', 1), (u'even', 1), (u'ever', 1), (u'excellent.', 1), (u'faithful.', 1), (u'false.', 1), (u'father,', 1), (u'flesh', 1), (u'for', 1), (u'forgotten.', 1), (u'forth.', 1), (u'found', 5), (u'free', 2), (u'from', 1), (u'fruitfully', 1), (u'full', 1), (u'general', 1), (u'given', 2), (u'glad', 4), (u'gone', 2), (u'gone,', 2), (u'gone.', 3), (u'good', 1), (u'guiltless', 1), (u\"hang'd\", 1), (u\"hang'd,\", 1), (u'heard.', 1), (u'here', 10), (u'here,', 1), (u'here.', 3), (u'his', 3), (u'honest,', 1), (u'horribly', 1), (u\"ill-favour'd.\", 1), (u'in', 4), (u'jangling;', 1), (u'jovial.', 1), (u'justified', 1), (u'kin', 1), (u'known', 2), (u'laid', 1), (u'landed.', 1), (u'large', 1), (u'led', 1), (u'left', 1), (u'left.', 1), (u'less', 1), (u'light,', 1), (u'like', 1), (u'lord,', 1), (u'lost', 1), (u'made', 2), (u'married', 4), (u'master', 1), (u\"med'cinable\", 1), (u'melted,', 1), (u'merely', 1), (u'mild', 2), (u'mine,', 1), (u\"mock'd\", 1), (u\"mock'd;\", 1), (u'more', 2), (u\"mov'd,\", 1), (u'music.', 1), (u'my', 3), (u'near', 1), (u'never-', 1), (u'nought', 1), (u'now;', 1), (u\"obey'd.\", 1), (u'of', 2), (u'old', 1), (u'older', 1), (u'only', 1), (u'ours,', 1), (u'out.', 1), (u'overborne', 1), (u\"overturn'd.\", 1), (u'paid', 1), (u'partner', 1), (u'pastime', 1), (u'patient.', 1), (u'patient;', 2), (u\"perform'd!\", 1), (u'pity', 1), (u\"pleas'd;\", 1), (u'point-devise', 1), (u'presently;', 1), (u'proud,', 1), (u'proved', 1), (u'quickly', 1), (u'quit', 1), (u'rain', 1), (u\"rank'd\", 1), (u'replete', 1), (u\"requir'd\", 1), (u'returned', 1), (u\"reveng'd\", 1), (u\"reveng'd.\", 1), (u'revenged', 2), (u'revenged,', 1), (u'revenged.', 1), (u\"rul'd\", 2), (u\"rul'd.\", 1), (u\"rul'd;\", 1), (u'safe,', 1), (u'safe.', 1), (u'said?', 1), (u'satisfied!', 2), (u'satisfied;', 2), (u\"sav'd\", 1), (u'schoolmaster,', 1), (u\"scrap'd\", 1), (u'seen', 2), (u'shame', 1), (u'shamed', 1), (u'short', 1), (u'short;', 1), (u'shortly', 1), (u'sick', 1), (u'silent.', 1), (u'singuled', 1), (u'so', 3), (u'so,', 1), (u\"squar'd\", 1), (u'still', 1), (u'stinking', 1), (u'strange,', 1), (u'sudden', 1), (u'suddenly,', 1), (u'sure', 1), (u'swine-drunk;', 1), (u'sworn', 2), (u'tainted', 1), (u'talking.', 2), (u\"tam'd\", 1), (u'thankful', 1), (u'thankful.', 1), (u\"thaw'd\", 1), (u'the', 11), (u'there', 2), (u'there,', 2), (u'there.', 1), (u'thine;', 1), (u'thought', 2), (u'throughly', 1), (u'thrown', 1), (u'thy', 5), (u'to-morrow', 1), (u'too', 4), (u\"treble-sinew'd,\", 1), (u'true', 1), (u'true,', 1), (u'true.', 1), (u'undone', 1), (u'verified', 1), (u'very', 2), (u'walking', 1), (u'welcome', 2), (u'well', 3), (u'well.', 5), (u'whipt.', 1), (u'with', 4), (u'witnesses.', 1), (u'woe', 1), (u\"woo'd.\", 1), (u'your', 3)])\n",
      "next word is   lost\n",
      "(u'be', u'lost')\n",
      "6th sample is ((u'be', u'lost'), [(u'ere', 1)])\n",
      "next word is   ere\n",
      "(u'lost', u'ere')\n",
      "7th sample is ((u'lost', u'ere'), [(u'long.', 1)])\n",
      "next word is   long.\n",
      "(u'ere', u'long.')\n",
      "8th sample is ((u'ere', u'long.'), [(u'But', 1), (u'Exeunt,', 1), (u'Exit', 1)])\n",
      "next word is   But\n",
      "(u'long.', u'But')\n",
      "9th sample is ((u'long.', u'But'), [(u'be', 1), (u'here', 1), (u'now,', 1), (u'would', 1)])\n",
      "next word is   be\n",
      "(u'But', u'be')\n",
      "10th sample is ((u'But', u'be'), [(u'as', 1), (u'contented', 1), (u'extirped', 1), (u\"hang'd,\", 1), (u'he', 1), (u'it', 2), (u'it;', 1), (u'master', 1), (u'not', 1), (u'of', 1), (u'the', 1), (u'thou', 2), (u'true.', 1)])\n",
      "next word is   master\n",
      "(u'be', u'master')\n",
      "11th sample is ((u'be', u'master'), [(u'of', 3)])\n",
      "next word is   of\n",
      "(u'master', u'of')\n",
      "12th sample is ((u'master', u'of'), [(u'a', 1), (u'all', 1), (u'fence-three', 1), (u'high', 1), (u'his', 4), (u'it.', 1), (u'mine,', 1), (u'my', 3), (u'the', 3), (u'thy', 1), (u'what', 1), (u'your', 1)])\n",
      "next word is   high\n",
      "(u'of', u'high')\n",
      "13th sample is ((u'of', u'high'), [(u'affairs', 1), (u'desert!', 1), (u'feeding,', 1), (u'hearts!', 1), (u'pay', 1), (u'renown,', 1), (u'respect', 1), (u'treason', 1), (u'treason,', 5), (u'treason.', 2), (u'treason;', 2)])\n",
      "next word is   treason,\n",
      "(u'high', u'treason,')\n",
      "14th sample is ((u'high', u'treason,'), [(u'by', 3), (u'in', 2)])\n",
      "next word is   by\n",
      "(u'treason,', u'by')\n",
      "15th sample is ((u'treason,', u'by'), [(u'the', 3)])\n",
      "next word is   the\n",
      "(u'by', u'the')\n",
      "16th sample is ((u'by', u'the'), [(u'Archbishop', 1), (u'Capitol.', 1), (u'Commons?', 1), (u'Counter-gate,', 1), (u'Countess', 1), (u'Cuckoo.', 1), (u'Dauphin', 1), (u'Dauphin.', 1), (u'Destinies', 1), (u'Duke', 1), (u'Emperor;', 1), (u'English,', 1), (u'French', 1), (u'French;', 1), (u'King', 4), (u\"King's\", 1), (u'King,', 1), (u'King.', 1), (u'King;', 1), (u'Lord', 1), (u'Lord,', 5), (u'Lord.', 1), (u'Owl,', 1), (u'Queen,', 1), (u'Recorder.', 1), (u'Regent', 1), (u'Senate', 2), (u'Syracusians', 1), (u'Thames', 1), (u'They', 1), (u'abbey', 1), (u'actor.', 1), (u'affection', 1), (u'all-hail', 1), (u'almighty', 1), (u'altitude', 1), (u'ambush', 1), (u'and', 1), (u'antiquary', 1), (u'arm', 1), (u'arm.', 1), (u'arm?', 1), (u'art', 1), (u'ass.', 1), (u'barrenness,', 1), (u'battle,', 1), (u'beard,', 1), (u'beard.', 1), (u'beard;', 1), (u'beard?', 1), (u'bell,', 1), (u'benefit', 1), (u'best', 1), (u'bogs.', 1), (u'book', 2), (u'book,', 1), (u'break', 1), (u'breeze', 1), (u'bright', 1), (u'buried', 1), (u'burning', 1), (u'canker', 1), (u'card,', 1), (u'cause', 1), (u'chain;', 1), (u'chance', 1), (u'charm', 1), (u'cheeks', 1), (u'church.', 3), (u'church;', 1), (u'cloak;', 1), (u'colour', 1), (u'common', 1), (u'complexion', 1), (u'conflux', 1), (u'conqueror.', 1), (u'consonancy', 1), (u'copulation', 1), (u'cormorant', 1), (u'crown,', 1), (u'dark', 1), (u'day,', 1), (u'death', 4), (u'deed.', 1), (u'destinies', 1), (u'devil', 1), (u'devil.', 1), (u'din', 1), (u'displanting', 1), (u'disposition,', 1), (u\"doer's\", 1), (u'doom', 1), (u'dram;', 1), (u'dreadful', 1), (u'duello', 1), (u'duty', 1), (u'ear', 1), (u'ear,', 1), (u'ears.', 1), (u'ears?', 1), (u'ears]', 1), (u'elbow;', 1), (u'enemy', 1), (u'enemy.', 1), (u'entreaty', 1), (u'excellent', 1), (u'eye', 1), (u'fair', 2), (u'fairies.', 1), (u'faith', 3), (u'fatal', 1), (u'fields.', 1), (u'fiend,', 1), (u'fifth', 1), (u'fire', 1), (u'fires', 1), (u'first', 1), (u'flame', 1), (u'flesh;', 1), (u'flight,', 1), (u'foil', 1), (u'foot.', 1), (u'forge', 1), (u'forward', 1), (u'front', 1), (u'frost', 1), (u'fruit,', 1), (u'garments', 1), (u'ghosts', 1), (u'glorious', 1), (u'gods', 1), (u'gods,', 1), (u'good', 2), (u'grace', 4), (u'grave', 1), (u'greater', 1), (u'greatest', 1), (u'ground', 2), (u'ground,', 1), (u'guard', 1), (u'hair;', 1), (u'hand', 10), (u'hand,', 7), (u'hand;', 1), (u'hand?', 1), (u\"hangman's\", 1), (u'happy', 1), (u'hazard', 1), (u'head', 2), (u'head,', 1), (u'heavens', 1), (u\"heavens'\", 1), (u'heels', 3), (u'heels.', 1), (u'height', 1), (u'help', 2), (u'hideous', 1), (u'holy', 4), (u'honour', 4), (u'honour-giving', 1), (u'honourable', 1), (u'hope', 1), (u'horns,', 1), (u'horse;', 1), (u'house', 1), (u'hundreds.', 1), (u'hungry', 1), (u'idle', 1), (u'image', 1), (u'immoderate', 1), (u'insolent', 1), (u'instruction', 1), (u'ireful', 1), (u'jealous', 1), (u'joiner', 1), (u\"keeper's\", 1), (u'lark,', 1), (u'last.', 1), (u'late', 1), (u'law', 2), (u'law,', 1), (u'lawful', 1), (u'laws', 1), (u'leave', 1), (u'leg.', 1), (u'leopard;', 1), (u'lesser', 1), (u'letters', 1), (u'life', 1), (u'limbs.', 1), (u'lion', 1), (u'locks,', 1), (u'look,', 1), (u'loss', 1), (u'main', 1), (u'man', 1), (u'manner', 1), (u'margent', 1), (u'marks', 1), (u'mass,', 1), (u'means', 4), (u'merit', 2), (u'method:', 1), (u'mighty', 1), (u'mill', 1), (u'minute', 1), (u'moon', 1), (u'moon,', 1), (u'moon.', 1), (u'mortal', 1), (u'most', 1), (u\"mother's\", 1), (u'motion', 1), (u'murmuring', 1), (u'name', 7), (u'near', 1), (u'necessary', 1), (u'neck,', 1), (u'negligent.', 1), (u'next', 1), (u'next,', 1), (u'ninth', 1), (u'noise', 1), (u'nose', 3), (u'nose,', 1), (u'nose.', 1), (u'nose;', 1), (u'obligation', 1), (u'old', 1), (u'operation', 2), (u'palm;', 1), (u'parlour', 1), (u'people', 1), (u'perfectest', 1), (u'persuasion', 1), (u'picking', 1), (u'picture', 1), (u'place,', 1), (u\"pow'r\", 1), (u\"pow'rful\", 1), (u'power', 2), (u'prick', 1), (u'priest,', 1), (u'progress', 1), (u'provost', 1), (u'readiness', 1), (u'rector', 1), (u'rest', 1), (u'right', 1), (u'righteous', 1), (u'rights', 1), (u'robbing', 1), (u'rood!', 1), (u'rood,', 1), (u'roots', 1), (u'roots,', 1), (u'roses', 1), (u'royalties', 1), (u'rude', 1), (u'rule', 1), (u'sacred', 1), (u'saint', 1), (u'salt', 2), (u'same', 4), (u'scroll.', 1), (u'sea-side,', 1), (u'seal,', 1), (u'second', 1), (u'self-same', 2), (u'sequent', 1), (u'sergeant,', 1), (u'ship-side,', 1), (u'shrieve', 1), (u'sign', 1), (u'silver', 1), (u'sky', 1), (u'sleeve,', 1), (u'son', 1), (u'sound', 2), (u'sovereign', 1), (u'spoil,', 1), (u'spurs', 1), (u\"squand'ring\", 1), (u'squire', 1), (u'star.', 1), (u'stealing', 1), (u'stern', 2), (u'stock', 1), (u'story.', 1), (u'strength', 1), (u'strumpet', 2), (u'suit', 1), (u'sun,', 2), (u'surer', 1), (u'sway,', 1), (u'swift', 1), (u'sword!', 1), (u'sword.', 1), (u'swords', 1), (u'third', 1), (u'throat', 1), (u'throat,', 1), (u'tide', 1), (u'tide-', 1), (u'tiger;', 1), (u'title.', 1), (u'tongue,', 1), (u'tongue.', 1), (u'tooth,', 1), (u'top', 2), (u'top,', 1), (u'tree,', 1), (u\"tribunes'\", 1), (u'unexpected', 1), (u'verities', 1), (u'very', 2), (u'view,', 1), (u'villain.', 1), (u'violet', 1), (u'waggling', 1), (u'wall', 1), (u'wall,', 1), (u'wars;', 1), (u'watch.', 1), (u'watery', 1), (u'way', 6), (u'way,', 5), (u'way.', 1), (u'way;', 1), (u'weakest', 1), (u'wearing', 1), (u'weight', 1), (u'weight,', 1), (u'west,', 1), (u'which', 3), (u'while.', 1), (u'white', 1), (u'will', 1), (u'windy', 1), (u'world,', 2), (u'world-', 1), (u'worst.', 2), (u'worth', 2), (u'wrist', 1), (u'yard.', 1), (u'yea', 1), (u'year', 2), (u'year,', 1)])\n",
      "next word is   nose\n",
      "(u'the', u'nose')\n",
      "17th sample is ((u'the', u'nose'), [(u'As', 1), (u'at', 1), (u'for', 1), (u'of', 1), (u'thus?', 1), (u'with', 1)])\n",
      "next word is   for\n",
      "(u'nose', u'for')\n",
      "18th sample is ((u'nose', u'for'), [(u'thy', 1)])\n",
      "next word is   thy\n",
      "(u'for', u'thy')\n"
     ]
    }
   ],
   "source": [
    "phrase = ''\n",
    "for i in range(0, num_words - 1):\n",
    "    \n",
    "    if i == 0:\n",
    "        cur_sample = rdd.takeSample(False, 1)[0]\n",
    "        phrase = cur_sample[0][0] + ' ' + cur_sample[0][1]\n",
    "    else:\n",
    "        cur_sample = (cur_phrase, rdd.map(lambda x:x).lookup(cur_phrase)[0])   \n",
    "    \n",
    "    cur_phrase = cur_sample[0]\n",
    "    nextwordlist = cur_sample[1]\n",
    "\n",
    "    print('%dth sample is %s' % (i, str(cur_sample)))\n",
    "    \n",
    "    # to choose the next word an next tuple, we have to draw from the random distribution that is described by the word lost\n",
    "    # this can be done manually (like here) or using scipy.stats i.e.\n",
    "\n",
    "    xk = np.arange(0, len(nextwordlist))\n",
    "    pk = np.array([w[1] for w in nextwordlist])\n",
    "    # normalize probabilities\n",
    "    pk = np.divide(pk, np.sum(pk) * 1.0)\n",
    "    word_distribution = stats.rv_discrete(name='word_distribution', values=(xk, pk))\n",
    "\n",
    "    # draw sample\n",
    "    index = word_distribution.rvs(size=1)[0]\n",
    "\n",
    "    # the next word is now at position index of the list\n",
    "    next_word = nextwordlist[index][0]\n",
    "    print('next word is   %s' % next_word)\n",
    "\n",
    "    phrase += ' ' + next_word\n",
    "    cur_phrase = (cur_phrase[1], next_word)\n",
    "    print(cur_phrase)"
   ]
  },
  {
   "cell_type": "code",
   "execution_count": 648,
   "metadata": {
    "collapsed": false
   },
   "outputs": [
    {
     "data": {
      "text/plain": [
       "((u'nose', u'for'), [(u'thy', 1)])"
      ]
     },
     "execution_count": 648,
     "metadata": {},
     "output_type": "execute_result"
    }
   ],
   "source": [
    "cur_sample"
   ]
  },
  {
   "cell_type": "code",
   "execution_count": 649,
   "metadata": {
    "collapsed": false
   },
   "outputs": [
    {
     "data": {
      "text/plain": [
       "u'Wife! What, ho! My lord! will be lost ere long. But be master of high treason, by the nose for thy'"
      ]
     },
     "execution_count": 649,
     "metadata": {},
     "output_type": "execute_result"
    }
   ],
   "source": [
    "phrase"
   ]
  },
  {
   "cell_type": "code",
   "execution_count": null,
   "metadata": {
    "collapsed": true
   },
   "outputs": [],
   "source": []
  },
  {
   "cell_type": "code",
   "execution_count": null,
   "metadata": {
    "collapsed": true
   },
   "outputs": [],
   "source": []
  },
  {
   "cell_type": "code",
   "execution_count": null,
   "metadata": {
    "collapsed": true
   },
   "outputs": [],
   "source": []
  }
 ],
 "metadata": {
  "kernelspec": {
   "display_name": "Python 2",
   "language": "python",
   "name": "python2"
  },
  "language_info": {
   "codemirror_mode": {
    "name": "ipython",
    "version": 2
   },
   "file_extension": ".py",
   "mimetype": "text/x-python",
   "name": "python",
   "nbconvert_exporter": "python",
   "pygments_lexer": "ipython2",
   "version": "2.7.10"
  }
 },
 "nbformat": 4,
 "nbformat_minor": 0
}
