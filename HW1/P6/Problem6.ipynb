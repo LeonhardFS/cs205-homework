{
 "cells": [
  {
   "cell_type": "markdown",
   "metadata": {},
   "source": [
    "# Problem 6"
   ]
  },
  {
   "cell_type": "code",
   "execution_count": 1,
   "metadata": {
    "collapsed": true
   },
   "outputs": [],
   "source": [
    "import findspark\n",
    "findspark.init()\n",
    "\n",
    "from pyspark import SparkContext, SparkConf\n",
    "import seaborn as sns\n",
    "sns.set_style(\"whitegrid\")\n",
    "import matplotlib.ticker as ticker   \n",
    "\n",
    "\n",
    "# setup spark\n",
    "conf = SparkConf().setAppName('MarkovShakespeare')\n",
    "sc = SparkContext(conf=conf)"
   ]
  },
  {
   "cell_type": "code",
   "execution_count": 2,
   "metadata": {
    "collapsed": false
   },
   "outputs": [
    {
     "data": {
      "text/plain": [
       "('pg100.txt', <httplib.HTTPMessage instance at 0x1133bf6c8>)"
      ]
     },
     "execution_count": 2,
     "metadata": {},
     "output_type": "execute_result"
    }
   ],
   "source": [
    "# load textlist from net\n",
    "filename = \"pg100.txt\"\n",
    "\n",
    "url = \"http://www.gutenberg.org/cache/epub/100/pg100.txt\"\n",
    "\n",
    "import urllib\n",
    "\n",
    "wordfile = urllib.URLopener()\n",
    "wordfile.retrieve(url, filename)"
   ]
  },
  {
   "cell_type": "code",
   "execution_count": 3,
   "metadata": {
    "collapsed": false
   },
   "outputs": [
    {
     "name": "stdout",
     "output_type": "stream",
     "text": [
      "True\n"
     ]
    },
    {
     "data": {
      "text/plain": [
       "True"
      ]
     },
     "execution_count": 3,
     "metadata": {},
     "output_type": "execute_result"
    }
   ],
   "source": [
    "# the texts from shakespeare are contained in lines 182 - 124367\n",
    "# create the file Shakespeare.txt using the line range from above\n",
    "# if all is ok, this should return True, True\n",
    "with open(filename, 'r') as f:\n",
    "    lines = f.readlines()\n",
    "    lines = lines[181:124367]\n",
    "    with open('Shakespeare.txt', 'w') as f2:\n",
    "        f2.writelines(lines)\n",
    "    print f2.closed\n",
    "f.closed"
   ]
  },
  {
   "cell_type": "code",
   "execution_count": 347,
   "metadata": {
    "collapsed": false
   },
   "outputs": [],
   "source": [
    "# filtering is done by spark\n",
    "words = sc.textFile('Shakespeare.txt')"
   ]
  },
  {
   "cell_type": "code",
   "execution_count": 348,
   "metadata": {
    "collapsed": false
   },
   "outputs": [],
   "source": [
    "# split lines into words (after whitespace)\n",
    "# before splitting replace first some escape characters with white space\n",
    "rdd = words.flatMap(lambda line: line.replace('\\n', ' ').replace('\\r', ' ').split(' '))"
   ]
  },
  {
   "cell_type": "code",
   "execution_count": 349,
   "metadata": {
    "collapsed": false
   },
   "outputs": [],
   "source": [
    "# now perform filtering on the words\n",
    "# to develop the regular expression this awesome tool was used https://regex101.com\n",
    "\n",
    "# (1) filter out words that only contain numbers\n",
    "# (2) filter out words for which all letters are capitalized\n",
    "# (3) filter out words that contain letters only and end with a period\n",
    "import re\n",
    "\n",
    "pattern1 = re.compile(ur'([0-9]+\\.?)|\\.')  # use only a simple RE for numbers here (numbers in the shakespeare text are formateed as 1., 2., ...)\n",
    "pattern2 = re.compile(ur'(\\b[A-Z]+\\.?\\b)|\\.') # ==> do (2) & (3) together in one regex!\n",
    "\n",
    "# filter does not change the order\n",
    "\n",
    "# FILTERING DOES NOT WORK YET GOOD!\n",
    "\n",
    "# first pattern works, second has troubles!\n",
    "rdd = rdd.filter(lambda x: pattern1.match(x) is None).filter(lambda x: pattern2.match(x) is None).filter(lambda x: len(x) > 0)"
   ]
  },
  {
   "cell_type": "code",
   "execution_count": 350,
   "metadata": {
    "collapsed": false
   },
   "outputs": [
    {
     "data": {
      "text/plain": [
       "[u'From', u'fairest', u'creatures', u'we', u'desire']"
      ]
     },
     "execution_count": 350,
     "metadata": {},
     "output_type": "execute_result"
    }
   ],
   "source": [
    "rdd.take(5)"
   ]
  },
  {
   "cell_type": "code",
   "execution_count": 351,
   "metadata": {
    "collapsed": true
   },
   "outputs": [],
   "source": [
    "# zip with index\n",
    "rdd = rdd.zipWithIndex()"
   ]
  },
  {
   "cell_type": "code",
   "execution_count": 352,
   "metadata": {
    "collapsed": false
   },
   "outputs": [
    {
     "data": {
      "text/plain": [
       "[(u'From', 0), (u'fairest', 1), (u'creatures', 2), (u'we', 3), (u'desire', 4)]"
      ]
     },
     "execution_count": 352,
     "metadata": {},
     "output_type": "execute_result"
    }
   ],
   "source": [
    "rdd.take(5)"
   ]
  },
  {
   "cell_type": "code",
   "execution_count": 353,
   "metadata": {
    "collapsed": false
   },
   "outputs": [
    {
     "data": {
      "text/plain": [
       "[231,\n",
       " 1679,\n",
       " 2628,\n",
       " 8288,\n",
       " 8303,\n",
       " 9921,\n",
       " 11886,\n",
       " 12226,\n",
       " 15578,\n",
       " 18590,\n",
       " 20856,\n",
       " 20869,\n",
       " 30398,\n",
       " 30641,\n",
       " 30703,\n",
       " 30970,\n",
       " 32002,\n",
       " 37716,\n",
       " 39790,\n",
       " 41863,\n",
       " 43033,\n",
       " 45639,\n",
       " 53116,\n",
       " 53378,\n",
       " 55072,\n",
       " 55585,\n",
       " 55796,\n",
       " 56124,\n",
       " 58337,\n",
       " 59529,\n",
       " 62304,\n",
       " 62646,\n",
       " 62695,\n",
       " 62924,\n",
       " 64717,\n",
       " 65302,\n",
       " 67966,\n",
       " 72392,\n",
       " 76689,\n",
       " 76709,\n",
       " 76734,\n",
       " 78717,\n",
       " 87425,\n",
       " 89825,\n",
       " 97288,\n",
       " 101984,\n",
       " 102526,\n",
       " 105785,\n",
       " 105978,\n",
       " 106896,\n",
       " 107666,\n",
       " 109396,\n",
       " 112407,\n",
       " 113437,\n",
       " 115209,\n",
       " 115612,\n",
       " 116751,\n",
       " 117167,\n",
       " 118609,\n",
       " 119434,\n",
       " 132951,\n",
       " 133281,\n",
       " 134639,\n",
       " 136073,\n",
       " 139888,\n",
       " 144384,\n",
       " 150076,\n",
       " 153394,\n",
       " 153465,\n",
       " 157526,\n",
       " 158043,\n",
       " 160556,\n",
       " 163346,\n",
       " 163594,\n",
       " 164038,\n",
       " 165763,\n",
       " 166266,\n",
       " 167516,\n",
       " 169164,\n",
       " 169828,\n",
       " 175563,\n",
       " 177137,\n",
       " 178671,\n",
       " 179143,\n",
       " 182482,\n",
       " 184731,\n",
       " 189301,\n",
       " 189467,\n",
       " 189588,\n",
       " 196925,\n",
       " 197002,\n",
       " 205158,\n",
       " 209234,\n",
       " 209261,\n",
       " 216733,\n",
       " 218172,\n",
       " 218717,\n",
       " 227746,\n",
       " 230690,\n",
       " 230715,\n",
       " 230918,\n",
       " 235930,\n",
       " 236026,\n",
       " 236665,\n",
       " 236681,\n",
       " 237222,\n",
       " 237281,\n",
       " 238051,\n",
       " 239600,\n",
       " 240967,\n",
       " 241433,\n",
       " 244106,\n",
       " 245124,\n",
       " 246651,\n",
       " 246685,\n",
       " 254591,\n",
       " 254817,\n",
       " 257436,\n",
       " 260253,\n",
       " 260371,\n",
       " 261296,\n",
       " 261840,\n",
       " 262274,\n",
       " 262597,\n",
       " 263256,\n",
       " 264337,\n",
       " 268721,\n",
       " 269072,\n",
       " 269157,\n",
       " 269928,\n",
       " 269953,\n",
       " 270315,\n",
       " 270756,\n",
       " 273883,\n",
       " 274508,\n",
       " 274996,\n",
       " 275922,\n",
       " 276095,\n",
       " 276150,\n",
       " 276330,\n",
       " 277854,\n",
       " 278135,\n",
       " 285535,\n",
       " 286099,\n",
       " 288289,\n",
       " 289269,\n",
       " 295036,\n",
       " 296136,\n",
       " 296480,\n",
       " 297527,\n",
       " 298003,\n",
       " 298802,\n",
       " 298940,\n",
       " 299129,\n",
       " 299949,\n",
       " 303822,\n",
       " 304080,\n",
       " 306202,\n",
       " 306845,\n",
       " 308031,\n",
       " 308624,\n",
       " 309482,\n",
       " 309779,\n",
       " 309817,\n",
       " 310644,\n",
       " 312913,\n",
       " 312931,\n",
       " 312956,\n",
       " 314254,\n",
       " 314473,\n",
       " 314876,\n",
       " 316040,\n",
       " 317372,\n",
       " 317526,\n",
       " 318113,\n",
       " 319426,\n",
       " 320590,\n",
       " 321329,\n",
       " 322214,\n",
       " 323242,\n",
       " 323371,\n",
       " 323879,\n",
       " 324858,\n",
       " 326275,\n",
       " 326960,\n",
       " 328020,\n",
       " 328680,\n",
       " 329871,\n",
       " 332217,\n",
       " 332394,\n",
       " 334561,\n",
       " 338226,\n",
       " 338801,\n",
       " 339257,\n",
       " 342504,\n",
       " 346045,\n",
       " 349720,\n",
       " 349870,\n",
       " 353282,\n",
       " 353473,\n",
       " 355446,\n",
       " 361211,\n",
       " 363115,\n",
       " 363541,\n",
       " 367933,\n",
       " 367955,\n",
       " 367985,\n",
       " 368064,\n",
       " 369609,\n",
       " 372099,\n",
       " 374074,\n",
       " 375967,\n",
       " 376343,\n",
       " 379199,\n",
       " 384109,\n",
       " 384129,\n",
       " 385122,\n",
       " 387491,\n",
       " 388438,\n",
       " 389183,\n",
       " 389854,\n",
       " 389862,\n",
       " 389932,\n",
       " 390848,\n",
       " 392798,\n",
       " 392802,\n",
       " 397176,\n",
       " 404136,\n",
       " 405811,\n",
       " 406190,\n",
       " 406625,\n",
       " 408823,\n",
       " 411600,\n",
       " 413205,\n",
       " 415018,\n",
       " 417178,\n",
       " 419913,\n",
       " 420669,\n",
       " 422520,\n",
       " 424155,\n",
       " 424194,\n",
       " 424505,\n",
       " 425190,\n",
       " 428838,\n",
       " 429323,\n",
       " 430567,\n",
       " 434599,\n",
       " 443131,\n",
       " 445990,\n",
       " 446234,\n",
       " 447065,\n",
       " 447528,\n",
       " 449954,\n",
       " 451924,\n",
       " 452319,\n",
       " 453499,\n",
       " 453510,\n",
       " 453526,\n",
       " 454755,\n",
       " 457591,\n",
       " 461809,\n",
       " 463257,\n",
       " 469800,\n",
       " 471467,\n",
       " 472805,\n",
       " 474104,\n",
       " 484223,\n",
       " 487428,\n",
       " 490049,\n",
       " 496156,\n",
       " 498317,\n",
       " 508161,\n",
       " 510218,\n",
       " 512705,\n",
       " 513582,\n",
       " 515424,\n",
       " 516222,\n",
       " 520368,\n",
       " 523311,\n",
       " 525884,\n",
       " 527021,\n",
       " 527775,\n",
       " 528132,\n",
       " 528137,\n",
       " 529696,\n",
       " 529724,\n",
       " 530377,\n",
       " 532682,\n",
       " 533296,\n",
       " 533299,\n",
       " 533317,\n",
       " 533715,\n",
       " 533736,\n",
       " 533759,\n",
       " 533806,\n",
       " 534077,\n",
       " 535835,\n",
       " 541557,\n",
       " 541560,\n",
       " 542106,\n",
       " 543371,\n",
       " 554551,\n",
       " 563135,\n",
       " 564210,\n",
       " 570737,\n",
       " 570992,\n",
       " 573239,\n",
       " 573382,\n",
       " 573395,\n",
       " 573581,\n",
       " 580799,\n",
       " 582262,\n",
       " 582366,\n",
       " 585080,\n",
       " 586191,\n",
       " 586341,\n",
       " 587123,\n",
       " 587330,\n",
       " 587621,\n",
       " 589137,\n",
       " 589227,\n",
       " 589371,\n",
       " 589380,\n",
       " 590675,\n",
       " 597426,\n",
       " 597586,\n",
       " 602060,\n",
       " 603149,\n",
       " 603181,\n",
       " 608595,\n",
       " 608991,\n",
       " 611308,\n",
       " 613287,\n",
       " 617243,\n",
       " 617945,\n",
       " 618980,\n",
       " 624058,\n",
       " 629272,\n",
       " 631207,\n",
       " 634051,\n",
       " 636831,\n",
       " 637294,\n",
       " 637328,\n",
       " 637700,\n",
       " 640420,\n",
       " 640796,\n",
       " 641598,\n",
       " 641868,\n",
       " 642403,\n",
       " 646309,\n",
       " 648239,\n",
       " 649412,\n",
       " 660493,\n",
       " 661356,\n",
       " 664776,\n",
       " 665149,\n",
       " 666043,\n",
       " 666582,\n",
       " 667154,\n",
       " 668399,\n",
       " 668807,\n",
       " 669885,\n",
       " 669993,\n",
       " 672417,\n",
       " 673178,\n",
       " 673511,\n",
       " 674057,\n",
       " 675627,\n",
       " 676247,\n",
       " 676819,\n",
       " 677817,\n",
       " 678188,\n",
       " 678266,\n",
       " 678401,\n",
       " 686751,\n",
       " 687482,\n",
       " 687939,\n",
       " 689314,\n",
       " 689569,\n",
       " 690073,\n",
       " 690991,\n",
       " 692116,\n",
       " 692132,\n",
       " 692195,\n",
       " 696710,\n",
       " 698725,\n",
       " 699829,\n",
       " 699849,\n",
       " 701489,\n",
       " 709470,\n",
       " 709487,\n",
       " 714086,\n",
       " 715723,\n",
       " 716827,\n",
       " 716964,\n",
       " 717411,\n",
       " 718895,\n",
       " 719113,\n",
       " 719741,\n",
       " 719821,\n",
       " 720224,\n",
       " 720322,\n",
       " 720399,\n",
       " 720685,\n",
       " 722905,\n",
       " 723825,\n",
       " 725700,\n",
       " 727415,\n",
       " 728099,\n",
       " 728689,\n",
       " 729668,\n",
       " 729718,\n",
       " 729739,\n",
       " 730485,\n",
       " 730525,\n",
       " 730606,\n",
       " 734829,\n",
       " 734869,\n",
       " 735875,\n",
       " 738555,\n",
       " 739530,\n",
       " 744529,\n",
       " 746652,\n",
       " 748595,\n",
       " 751982,\n",
       " 752042,\n",
       " 753851,\n",
       " 754259,\n",
       " 754564,\n",
       " 754919,\n",
       " 758523,\n",
       " 758619,\n",
       " 761007,\n",
       " 762759,\n",
       " 763479,\n",
       " 763722,\n",
       " 764956,\n",
       " 768205,\n",
       " 771480,\n",
       " 771696,\n",
       " 775595,\n",
       " 776838,\n",
       " 778250,\n",
       " 778329,\n",
       " 779209,\n",
       " 779217,\n",
       " 779236,\n",
       " 779263,\n",
       " 779273,\n",
       " 780439,\n",
       " 780447,\n",
       " 781610,\n",
       " 782382,\n",
       " 784915,\n",
       " 785120,\n",
       " 785161,\n",
       " 786519,\n",
       " 790434,\n",
       " 793050,\n",
       " 793271,\n",
       " 797394,\n",
       " 799906,\n",
       " 800407,\n",
       " 802173,\n",
       " 802405,\n",
       " 802504,\n",
       " 804194,\n",
       " 808056,\n",
       " 813086,\n",
       " 814389]"
      ]
     },
     "execution_count": 353,
     "metadata": {},
     "output_type": "execute_result"
    }
   ],
   "source": [
    "rdd.map(lambda x:x).lookup(u'Now')"
   ]
  },
  {
   "cell_type": "code",
   "execution_count": 354,
   "metadata": {
    "collapsed": true
   },
   "outputs": [],
   "source": [
    "# map to list\n",
    "rdd = rdd.flatMap(lambda x: [(x[1], (0, x[0])), (x[1] - 1, (1, x[0])), (x[1] - 2, (2, x[0]))])"
   ]
  },
  {
   "cell_type": "code",
   "execution_count": 355,
   "metadata": {
    "collapsed": false
   },
   "outputs": [],
   "source": [
    "#rdd.take(5)"
   ]
  },
  {
   "cell_type": "code",
   "execution_count": 356,
   "metadata": {
    "collapsed": true
   },
   "outputs": [],
   "source": [
    "rdd = rdd.groupByKey()"
   ]
  },
  {
   "cell_type": "code",
   "execution_count": 357,
   "metadata": {
    "collapsed": false
   },
   "outputs": [],
   "source": [
    "#rdd.take(5)"
   ]
  },
  {
   "cell_type": "code",
   "execution_count": 358,
   "metadata": {
    "collapsed": true
   },
   "outputs": [],
   "source": [
    "# map (keyA, (keyA, wordA), (keyA + 1, wordA+1), (keyA + 2, wordA+2)) to (wordA, wordA+1, wordA+2)\n",
    "fun = lambda x: list(x[1])\n",
    "rdd = rdd.map(fun)"
   ]
  },
  {
   "cell_type": "code",
   "execution_count": 359,
   "metadata": {
    "collapsed": true
   },
   "outputs": [],
   "source": [
    "# HIER NOCH UNBEDINGT ALLE TUPEL RAUSSCHMEISSEN, DEREN LISTE != 3 Elemente enthaelt\n",
    "rdd = rdd.filter(lambda x: len(x) == 3)"
   ]
  },
  {
   "cell_type": "code",
   "execution_count": 360,
   "metadata": {
    "collapsed": false
   },
   "outputs": [],
   "source": [
    "# map such that the three words form the key with value 1, we use that then to sum up everything\n",
    "#gfun = lambda x: ((x[0][1], x[1][1], x[2][1]), 1)\n",
    "\n",
    "# try to combine\n",
    "gfun = lambda x: ((x[0][1], x[1][1], x[2][1]), 1)\n",
    "#gfun = lambda x: (x[0][1], 1)\n",
    "#rdd = rdd.map(gfun)"
   ]
  },
  {
   "cell_type": "code",
   "execution_count": 361,
   "metadata": {
    "collapsed": false
   },
   "outputs": [],
   "source": [
    "rdd = rdd.map(gfun)"
   ]
  },
  {
   "cell_type": "code",
   "execution_count": 362,
   "metadata": {
    "collapsed": false
   },
   "outputs": [],
   "source": [
    "#temp.take(20)"
   ]
  },
  {
   "cell_type": "code",
   "execution_count": 363,
   "metadata": {
    "collapsed": false
   },
   "outputs": [],
   "source": [
    "rdd = rdd.reduceByKey(lambda x,y:x+y)\n",
    "#temp.take(5)"
   ]
  },
  {
   "cell_type": "code",
   "execution_count": 364,
   "metadata": {
    "collapsed": true
   },
   "outputs": [],
   "source": [
    "# remap form\n",
    "rdd = rdd.map(lambda x: ((x[0][0], x[0][1]), (x[0][2], x[1])))"
   ]
  },
  {
   "cell_type": "code",
   "execution_count": null,
   "metadata": {
    "collapsed": false
   },
   "outputs": [],
   "source": []
  },
  {
   "cell_type": "code",
   "execution_count": 365,
   "metadata": {
    "collapsed": true
   },
   "outputs": [],
   "source": [
    "# final group by key\n",
    "# maybe sort list after it!!!\n",
    "rdd = rdd.groupByKey().map(lambda x: (x[0],list(x[1]) ))"
   ]
  },
  {
   "cell_type": "code",
   "execution_count": null,
   "metadata": {
    "collapsed": false
   },
   "outputs": [],
   "source": []
  },
  {
   "cell_type": "code",
   "execution_count": 366,
   "metadata": {
    "collapsed": false
   },
   "outputs": [
    {
     "data": {
      "text/plain": [
       "[[(u'a', 1),\n",
       "  (u'my', 2),\n",
       "  (u'the', 9),\n",
       "  (u'this', 1),\n",
       "  (u'that', 1),\n",
       "  (u'be', 1),\n",
       "  (u'it', 3),\n",
       "  (u'he', 1),\n",
       "  (u'his', 1),\n",
       "  (u'your', 1),\n",
       "  (u'Mortimer', 1)]]"
      ]
     },
     "execution_count": 366,
     "metadata": {},
     "output_type": "execute_result"
    }
   ],
   "source": [
    "rdd.map(lambda x: x).lookup((u'Now', u'is'))"
   ]
  },
  {
   "cell_type": "code",
   "execution_count": null,
   "metadata": {
    "collapsed": true
   },
   "outputs": [],
   "source": []
  },
  {
   "cell_type": "code",
   "execution_count": null,
   "metadata": {
    "collapsed": true
   },
   "outputs": [],
   "source": []
  },
  {
   "cell_type": "code",
   "execution_count": null,
   "metadata": {
    "collapsed": true
   },
   "outputs": [],
   "source": []
  }
 ],
 "metadata": {
  "kernelspec": {
   "display_name": "Python 2",
   "language": "python",
   "name": "python2"
  },
  "language_info": {
   "codemirror_mode": {
    "name": "ipython",
    "version": 2
   },
   "file_extension": ".py",
   "mimetype": "text/x-python",
   "name": "python",
   "nbconvert_exporter": "python",
   "pygments_lexer": "ipython2",
   "version": "2.7.10"
  }
 },
 "nbformat": 4,
 "nbformat_minor": 0
}
