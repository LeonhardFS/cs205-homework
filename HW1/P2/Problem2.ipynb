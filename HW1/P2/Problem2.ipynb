{
 "cells": [
  {
   "cell_type": "markdown",
   "metadata": {},
   "source": [
    "# Problem 2 - Computing the Mandelbrot Set"
   ]
  },
  {
   "cell_type": "markdown",
   "metadata": {},
   "source": [
    "### Problem 2a: Plotting the mandelbrot function using default partitioning"
   ]
  },
  {
   "cell_type": "code",
   "execution_count": 1,
   "metadata": {
    "collapsed": false
   },
   "outputs": [
    {
     "name": "stdout",
     "output_type": "stream",
     "text": [
      "Populating the interactive namespace from numpy and matplotlib\n"
     ]
    }
   ],
   "source": [
    "%pylab inline\n",
    "\n",
    "import findspark\n",
    "findspark.init()\n",
    "\n",
    "from P2 import *\n",
    "from pyspark import SparkContext, SparkConf\n",
    "import seaborn as sns\n",
    "sns.set_style(\"whitegrid\")\n",
    "import matplotlib.ticker as ticker   \n",
    "\n",
    "\n",
    "# setup spark\n",
    "conf = SparkConf().setAppName('Mandelbrot')\n",
    "sc = SparkContext(conf=conf)"
   ]
  },
  {
   "cell_type": "markdown",
   "metadata": {},
   "source": [
    "the following functionis used later in (b)"
   ]
  },
  {
   "cell_type": "code",
   "execution_count": 2,
   "metadata": {
    "collapsed": false
   },
   "outputs": [
    {
     "name": "stdout",
     "output_type": "stream",
     "text": [
      "Populating the interactive namespace from numpy and matplotlib\n"
     ]
    }
   ],
   "source": [
    "%pylab inline\n",
    "\n",
    "# creates a RDD object to pass over to the compute Mandelbrot function\n",
    "def setupMandelbrot():\n",
    "    \n",
    "    # define here count of partitions\n",
    "    num_partitions = 100;\n",
    "    \n",
    "    # create the space (this can be also done using spark's cartesian command)\n",
    "    nx, ny = (2000, 2000)\n",
    "    x = range(0, nx)\n",
    "    y = range(0, ny)\n",
    "    \n",
    "    rddX = sc.parallelize(x, int(np.sqrt(num_partitions)))\n",
    "    rddY = sc.parallelize(y, int(np.sqrt(num_partitions)))\n",
    "    rdd = rddX.cartesian(rddY) # to get tuples\n",
    "    \n",
    "    print rdd.getNumPartitions()\n",
    "    \n",
    "    return rdd\n",
    "\n",
    "# given an rdd, this function computes the mandelbrot function\n",
    "# along with a statistic about iterations per partition\n",
    "def computeMandelbrot(rdd):\n",
    "    # now map using mandelbrot to ((I, J), V) with (I, J) being the coordinates\n",
    "    # and V the value (i.e. iteration number) of the mandelbrot set\n",
    "    mb = lambda c: (c, mandelbrot((c[0] / 500.0) - 2.0, (c[1] / 500.0) - 2.0))\n",
    "\n",
    "    # apply mandelbrot function mb to the given set\n",
    "    rdd = rdd.map(mb)\n",
    "\n",
    "    # get sum_values_for_partitions and draw a histogram of it\n",
    "    iteration_stats = sum_values_for_partitions(rdd).collect()\n",
    "    \n",
    "    return (rdd, iteration_stats)"
   ]
  },
  {
   "cell_type": "code",
   "execution_count": 3,
   "metadata": {
    "collapsed": false
   },
   "outputs": [
    {
     "name": "stdout",
     "output_type": "stream",
     "text": [
      "100\n"
     ]
    },
    {
     "data": {
      "image/png": "[encoded data removed]",
      "text/plain": [
       "<matplotlib.figure.Figure at 0x1082f9490>"
      ]
     },
     "metadata": {},
     "output_type": "display_data"
    }
   ],
   "source": [
    "rdd = setupMandelbrot()\n",
    "\n",
    "rdd, iteration_stats = computeMandelbrot(rdd)\n",
    "\n",
    "# apply mandelbrot function and draw resulting image\n",
    "im = draw_image(rdd)"
   ]
  },
  {
   "cell_type": "code",
   "execution_count": 20,
   "metadata": {
    "collapsed": false
   },
   "outputs": [],
   "source": [
    "# plot a histogram\n",
    "\n",
    "def plotIterationStats(iteration_stats, savestr):\n",
    "    fig = plt.figure()\n",
    "    ax = fig.add_subplot(111)\n",
    "    ax.hist(np.array(iteration_stats))\n",
    "    ax.set_xlabel('total number of iterations in million')\n",
    "    ax.set_ylabel('number of partitions')\n",
    "\n",
    "    # use the trick from http://stackoverflow.com/questions/10171618/changing-plot-scale-by-a-factor-in-matplotlib\n",
    "    # to scale figure in a nicer way\n",
    "    scale = 10e6                                                                                                                                                                                                                                                                  \n",
    "    ticks = ticker.FuncFormatter(lambda x, pos: '{0:g}'.format(x/scale))                                                                                                                                                                                                           \n",
    "    ax.xaxis.set_major_formatter(ticks) \n",
    "\n",
    "    # save figure as P2a_hist.png\n",
    "    plt.savefig(savestr, dpi=120)"
   ]
  },
  {
   "cell_type": "markdown",
   "metadata": {},
   "source": [
    "Plotting the number of iterations in a histogram shows, that spark used very unbalanced partitions for the actual calculation"
   ]
  },
  {
   "cell_type": "code",
   "execution_count": 21,
   "metadata": {
    "collapsed": false
   },
   "outputs": [
    {
     "data": {
      "image/png": "[encoded data removed]",
      "text/plain": [
       "<matplotlib.figure.Figure at 0x108f6c0d0>"
      ]
     },
     "metadata": {},
     "output_type": "display_data"
    }
   ],
   "source": [
    "plotIterationStats(iteration_stats, 'P2a_hist.png')"
   ]
  },
  {
   "cell_type": "markdown",
   "metadata": {
    "collapsed": true
   },
   "source": [
    "## Problem 2b: Using a better partitioning strategy"
   ]
  },
  {
   "cell_type": "code",
   "execution_count": 5,
   "metadata": {
    "collapsed": false
   },
   "outputs": [
    {
     "ename": "NameError",
     "evalue": "name 'rdd' is not defined",
     "output_type": "error",
     "traceback": [
      "\u001b[0;31m---------------------------------------------------------------------------\u001b[0m",
      "\u001b[0;31mNameError\u001b[0m                                 Traceback (most recent call last)",
      "\u001b[0;32m<ipython-input-5-2a9453db859f>\u001b[0m in \u001b[0;36m<module>\u001b[0;34m()\u001b[0m\n\u001b[0;32m----> 1\u001b[0;31m \u001b[0mnum_partitions\u001b[0m \u001b[0;34m=\u001b[0m \u001b[0mrdd\u001b[0m\u001b[0;34m.\u001b[0m\u001b[0mgetNumPartitions\u001b[0m\u001b[0;34m(\u001b[0m\u001b[0;34m)\u001b[0m\u001b[0;34m\u001b[0m\u001b[0m\n\u001b[0m",
      "\u001b[0;31mNameError\u001b[0m: name 'rdd' is not defined"
     ]
    }
   ],
   "source": [
    "num_partitions = rdd.getNumPartitions()"
   ]
  },
  {
   "cell_type": "markdown",
   "metadata": {},
   "source": [
    "Looking at the picture from Problem 2a, we see that first all there seems to be symmetry. In order to load balance, we essentially want partitions that are larger around black regions and smaller around white regions. To analzye the density of white/black, we use the x-axis and sum up the white values"
   ]
  },
  {
   "cell_type": "code",
   "execution_count": 14,
   "metadata": {
    "collapsed": false
   },
   "outputs": [],
   "source": [
    "C = np.exp(im) -1"
   ]
  },
  {
   "cell_type": "markdown",
   "metadata": {},
   "source": [
    "Now we compute the cumulative iterations along the x-axis and fit then a polynomial to it. This gives us then the information, how much iterations we need"
   ]
  },
  {
   "cell_type": "code",
   "execution_count": 15,
   "metadata": {
    "collapsed": false
   },
   "outputs": [
    {
     "data": {
      "text/plain": [
       "[<matplotlib.lines.Line2D at 0x1089d4750>]"
      ]
     },
     "execution_count": 15,
     "metadata": {},
     "output_type": "execute_result"
    },
    {
     "data": {
      "image/png": "[encoded data removed]",
      "text/plain": [
       "<matplotlib.figure.Figure at 0x12936b350>"
      ]
     },
     "metadata": {},
     "output_type": "display_data"
    }
   ],
   "source": [
    "Cy = sum(C, axis=1)\n",
    "Cy = np.cumsum(Cy)\n",
    "plt.plot(Cy)\n",
    "Cx = range(0, C.shape[0])\n",
    "deg = 12\n",
    "\n",
    "# maybe a logit is also a good idea to fit!\n",
    "p = numpy.polyfit(Cx, Cy, deg)\n",
    "\n",
    "p = np.poly1d(p)\n",
    "xp = np.linspace(0, C.shape[0], 200)\n",
    "plt.plot(xp, p(xp))"
   ]
  },
  {
   "cell_type": "markdown",
   "metadata": {},
   "source": [
    "Then we divide the y-space in num-partitions lines. Their intersection with the fittes polynomial yields an x position from which we can compute the width of one partition. We use then this partitions forthe computation."
   ]
  },
  {
   "cell_type": "markdown",
   "metadata": {},
   "source": [
    "The idea is now, to first estimate the polynomial by fitting it to a at lower resolution computed curve. Then we use this approximation at a higher level"
   ]
  },
  {
   "cell_type": "code",
   "execution_count": 32,
   "metadata": {
    "collapsed": true
   },
   "outputs": [],
   "source": [
    "# compute low resolution Mandelbrot set\n",
    "# creates a RDD object to pass over to the compute Mandelbrot function\n",
    "def setupLowResMandelbrot():\n",
    "    \n",
    "    # define here count of partitions\n",
    "    num_partitions = 4;\n",
    "    \n",
    "    # create the space (this can be also done using spark's cartesian command)\n",
    "    nx, ny = (100, 100)\n",
    "    x = range(0, nx)\n",
    "    y = range(0, ny)\n",
    "    \n",
    "    rddX = sc.parallelize(x, int(np.sqrt(num_partitions)))\n",
    "    rddY = sc.parallelize(y, int(np.sqrt(num_partitions)))\n",
    "    rdd = rddX.cartesian(rddY) # to get tuples\n",
    "    \n",
    "    print rdd.getNumPartitions()\n",
    "    \n",
    "    return rdd"
   ]
  },
  {
   "cell_type": "code",
   "execution_count": 33,
   "metadata": {
    "collapsed": false
   },
   "outputs": [
    {
     "name": "stdout",
     "output_type": "stream",
     "text": [
      "4\n"
     ]
    },
    {
     "data": {
      "image/png": "[encoded data removed]",
      "text/plain": [
       "<matplotlib.figure.Figure at 0x108a2d9d0>"
      ]
     },
     "metadata": {},
     "output_type": "display_data"
    }
   ],
   "source": [
    "rddLowRes = setupLowResMandelbrot()\n",
    "\n",
    "# now map using mandelbrot to ((I, J), V) with (I, J) being the coordinates\n",
    "# and V the value (i.e. iteration number) of the mandelbrot set\n",
    "mb = lambda c: (c, mandelbrot((c[0] / 25.0) - 2.0, (c[1] / 25.0) - 2.0))\n",
    "\n",
    "# apply mandelbrot function mb to the given set\n",
    "rddLowRes = rddLowRes.map(mb)\n",
    "\n",
    "# get sum_values_for_partitions and draw a histogram of it\n",
    "iteration_stats = sum_values_for_partitions(rddLowRes).collect()\n",
    "\n",
    "# apply mandelbrot function and draw resulting image\n",
    "im = draw_image(rddLowRes)"
   ]
  },
  {
   "cell_type": "code",
   "execution_count": 62,
   "metadata": {
    "collapsed": false
   },
   "outputs": [
    {
     "data": {
      "text/plain": [
       "[<matplotlib.lines.Line2D at 0x10a2d7390>]"
      ]
     },
     "execution_count": 62,
     "metadata": {},
     "output_type": "execute_result"
    },
    {
     "data": {
      "image/png": "[encoded data removed]",
      "text/plain": [
       "<matplotlib.figure.Figure at 0x109850e90>"
      ]
     },
     "metadata": {},
     "output_type": "display_data"
    }
   ],
   "source": [
    "C = np.exp(im) -1\n",
    "Cy = sum(C, axis=1)\n",
    "Cy = np.cumsum(Cy) / np.sum(C)\n",
    "plt.plot(Cy)\n",
    "Cx = range(0, C.shape[0])\n",
    "deg = 12\n",
    "\n",
    "# maybe a logit is also a good idea to fit!\n",
    "p = numpy.polyfit(Cx, Cy, deg)\n",
    "\n",
    "p = np.poly1d(p)\n",
    "xp = np.linspace(0, C.shape[0], 200)\n",
    "plt.plot(xp, p(xp))"
   ]
  },
  {
   "cell_type": "code",
   "execution_count": 143,
   "metadata": {
    "collapsed": false
   },
   "outputs": [
    {
     "name": "stdout",
     "output_type": "stream",
     "text": [
      "[ 42.54538629   0.1534053 ]\n"
     ]
    },
    {
     "data": {
      "image/png": "[encoded data removed]",
      "text/plain": [
       "<matplotlib.figure.Figure at 0x1090da710>"
      ]
     },
     "metadata": {},
     "output_type": "display_data"
    }
   ],
   "source": [
    "import numpy as np\n",
    "import pylab\n",
    "from scipy.optimize import curve_fit\n",
    "\n",
    "def sigmoid(x, x0, k):\n",
    "     y = 1 / (1 + np.exp(-k*(x-x0)))\n",
    "     return y\n",
    "\n",
    "def invsigmoid(y, x0, k):\n",
    "    x = np.log(y / (1-y)) / k + x0\n",
    "    return x\n",
    "\n",
    "xdata = Cx\n",
    "ydata = Cy\n",
    "\n",
    "popt, pcov = curve_fit(sigmoid, xdata, ydata)\n",
    "print popt\n",
    "\n",
    "x = range(0, C.shape[0])\n",
    "y = sigmoid(x, *popt)\n",
    "\n",
    "pylab.plot(xdata, ydata, 'o', label='data')\n",
    "pylab.plot(x,y, label='fit')\n",
    "pylab.legend(loc='best')\n",
    "pylab.show()"
   ]
  },
  {
   "cell_type": "code",
   "execution_count": 4,
   "metadata": {
    "collapsed": false
   },
   "outputs": [
    {
     "ename": "NameError",
     "evalue": "name 'num_partitions' is not defined",
     "output_type": "error",
     "traceback": [
      "\u001b[0;31m---------------------------------------------------------------------------\u001b[0m",
      "\u001b[0;31mNameError\u001b[0m                                 Traceback (most recent call last)",
      "\u001b[0;32m<ipython-input-4-91e3aaaa4414>\u001b[0m in \u001b[0;36m<module>\u001b[0;34m()\u001b[0m\n\u001b[1;32m      1\u001b[0m \u001b[0;31m# now split the image space [0, 1] into num_partitions buckets and\u001b[0m\u001b[0;34m\u001b[0m\u001b[0;34m\u001b[0m\u001b[0m\n\u001b[1;32m      2\u001b[0m \u001b[0;31m# retrieve size of bucket via inv of the sigmoid function\u001b[0m\u001b[0;34m\u001b[0m\u001b[0;34m\u001b[0m\u001b[0m\n\u001b[0;32m----> 3\u001b[0;31m \u001b[0msizes\u001b[0m \u001b[0;34m=\u001b[0m \u001b[0;34m[\u001b[0m\u001b[0minvsigmoid\u001b[0m\u001b[0;34m(\u001b[0m\u001b[0;34m(\u001b[0m\u001b[0mi\u001b[0m \u001b[0;34m*\u001b[0m \u001b[0;36m1.0\u001b[0m \u001b[0;34m+\u001b[0m \u001b[0;36m0.5\u001b[0m\u001b[0;34m)\u001b[0m  \u001b[0;34m/\u001b[0m \u001b[0mnum_partitions\u001b[0m\u001b[0;34m,\u001b[0m \u001b[0;34m*\u001b[0m\u001b[0mpopt\u001b[0m\u001b[0;34m)\u001b[0m \u001b[0;32mfor\u001b[0m \u001b[0mi\u001b[0m \u001b[0;32min\u001b[0m \u001b[0mrange\u001b[0m\u001b[0;34m(\u001b[0m\u001b[0;36m0\u001b[0m\u001b[0;34m,\u001b[0m \u001b[0mnum_partitions\u001b[0m\u001b[0;34m)\u001b[0m\u001b[0;34m]\u001b[0m\u001b[0;34m\u001b[0m\u001b[0m\n\u001b[0m\u001b[1;32m      4\u001b[0m \u001b[0msizes\u001b[0m\u001b[0;34m[\u001b[0m\u001b[0;36m99\u001b[0m\u001b[0;34m]\u001b[0m \u001b[0;34m=\u001b[0m \u001b[0;36m100\u001b[0m\u001b[0;34m\u001b[0m\u001b[0m\n\u001b[1;32m      5\u001b[0m \u001b[0;34m\u001b[0m\u001b[0m\n",
      "\u001b[0;31mNameError\u001b[0m: name 'num_partitions' is not defined"
     ]
    }
   ],
   "source": [
    "# now split the image space [0, 1] into num_partitions buckets and\n",
    "# retrieve size of bucket via inv of the sigmoid function\n",
    "sizes = [invsigmoid((i * 1.0 + 0.5)  / num_partitions, *popt) for i in range(0, num_partitions)]\n",
    "sizes[99] = 100\n",
    "\n",
    "# as we only want to split x (avoid subsplitting y, would be also possible), make sure each partition is at least 1 big\n",
    "# scale sizes now to resolution\n",
    "\n",
    "nx = 2000\n",
    "sizes = [int(ceil(nx * x / num_partitions)) for x in sizes]\n",
    "\n",
    "\n",
    "# define using this size vector the partitoning function\n",
    "def sigmoidPartition(key): \n",
    "\n",
    "    # key is a pixel position (x, y) with x = 0, ..., n_x -1\n",
    "    x = key\n",
    "\n",
    "    # return a partition id 0, ..., num_partitions-1 \n",
    "    # based on sizes vector\n",
    "    partition = 0\n",
    "    for size in sizes:\n",
    "        if x < size:\n",
    "            break\n",
    "        partition +=1\n",
    "\n",
    "    return partition"
   ]
  },
  {
   "cell_type": "code",
   "execution_count": 3,
   "metadata": {
    "collapsed": false
   },
   "outputs": [
    {
     "name": "stdout",
     "output_type": "stream",
     "text": [
      "CPU times: user 1 µs, sys: 0 ns, total: 1 µs\n",
      "Wall time: 4.05 µs\n"
     ]
    },
    {
     "ename": "NameError",
     "evalue": "name 'setupMandelbrot' is not defined",
     "output_type": "error",
     "traceback": [
      "\u001b[0;31m---------------------------------------------------------------------------\u001b[0m",
      "\u001b[0;31mNameError\u001b[0m                                 Traceback (most recent call last)",
      "\u001b[0;32m<ipython-input-3-47cf61fcad4f>\u001b[0m in \u001b[0;36m<module>\u001b[0;34m()\u001b[0m\n\u001b[1;32m      4\u001b[0m \u001b[0;34m\u001b[0m\u001b[0m\n\u001b[1;32m      5\u001b[0m \u001b[0mget_ipython\u001b[0m\u001b[0;34m(\u001b[0m\u001b[0;34m)\u001b[0m\u001b[0;34m.\u001b[0m\u001b[0mmagic\u001b[0m\u001b[0;34m(\u001b[0m\u001b[0;34mu'time'\u001b[0m\u001b[0;34m)\u001b[0m\u001b[0;34m\u001b[0m\u001b[0m\n\u001b[0;32m----> 6\u001b[0;31m \u001b[0mrdd\u001b[0m \u001b[0;34m=\u001b[0m \u001b[0msetupMandelbrot\u001b[0m\u001b[0;34m(\u001b[0m\u001b[0;34m)\u001b[0m\u001b[0;34m\u001b[0m\u001b[0m\n\u001b[0m\u001b[1;32m      7\u001b[0m \u001b[0;34m\u001b[0m\u001b[0m\n\u001b[1;32m      8\u001b[0m \u001b[0mrdd\u001b[0m\u001b[0;34m.\u001b[0m\u001b[0mtake\u001b[0m\u001b[0;34m(\u001b[0m\u001b[0;36m5\u001b[0m\u001b[0;34m)\u001b[0m\u001b[0;34m\u001b[0m\u001b[0m\n",
      "\u001b[0;31mNameError\u001b[0m: name 'setupMandelbrot' is not defined"
     ]
    }
   ],
   "source": [
    "# partition using sigmoid estimate\n",
    "\n",
    "import functools\n",
    "\n",
    "%time\n",
    "rdd = setupMandelbrot()\n",
    "\n",
    "rdd.take(5)\n",
    "\n",
    "# see https://spark.apache.org/docs/1.1.1/api/python/pyspark.rdd.RDD-class.html#partitionBy\n",
    "rdd = rdd.partitionBy(num_partitions, partitionFunc=sigmoidPartition)\n",
    "\n",
    "rdd, iteration_stats = computeMandelbrot(rdd)\n",
    "\n",
    "plotIterationStats(iteration_stats, 'P2b_hist_sigmoid.png')"
   ]
  },
  {
   "cell_type": "markdown",
   "metadata": {},
   "source": [
    "## Random partitioning"
   ]
  },
  {
   "cell_type": "markdown",
   "metadata": {},
   "source": [
    "One of the easiest ways to speedup computation is by using a random partitioning."
   ]
  },
  {
   "cell_type": "code",
   "execution_count": 176,
   "metadata": {
    "collapsed": false
   },
   "outputs": [],
   "source": [
    "# define a custom partitioner function\n",
    "def randomPartition(key): \n",
    "\n",
    "    # return a partition id 0, ..., num_partitions-1 random\n",
    "    return np.random.randint(num_partitions)\n"
   ]
  },
  {
   "cell_type": "code",
   "execution_count": 177,
   "metadata": {
    "collapsed": false
   },
   "outputs": [
    {
     "name": "stdout",
     "output_type": "stream",
     "text": [
      "CPU times: user 2 µs, sys: 1 µs, total: 3 µs\n",
      "Wall time: 5.96 µs\n",
      "100\n"
     ]
    }
   ],
   "source": [
    "%time\n",
    "rdd = setupMandelbrot()\n",
    "\n",
    "# see https://spark.apache.org/docs/1.1.1/api/python/pyspark.rdd.RDD-class.html#partitionBy\n",
    "rdd = rdd.partitionBy(num_partitions, partitionFunc=randomPartition)"
   ]
  },
  {
   "cell_type": "code",
   "execution_count": 178,
   "metadata": {
    "collapsed": false
   },
   "outputs": [],
   "source": [
    "rdd, iteration_stats = computeMandelbrot(rdd)"
   ]
  },
  {
   "cell_type": "code",
   "execution_count": 179,
   "metadata": {
    "collapsed": false
   },
   "outputs": [
    {
     "data": {
      "image/png": "[encoded data removed]",
      "text/plain": [
       "<matplotlib.figure.Figure at 0x10a294310>"
      ]
     },
     "metadata": {},
     "output_type": "display_data"
    }
   ],
   "source": [
    "plotIterationStats(iteration_stats, 'P2b_hist.png')"
   ]
  },
  {
   "cell_type": "markdown",
   "metadata": {
    "collapsed": true
   },
   "source": [
    "As the plot shows, this method is really good!"
   ]
  },
  {
   "cell_type": "code",
   "execution_count": null,
   "metadata": {
    "collapsed": true
   },
   "outputs": [],
   "source": []
  }
 ],
 "metadata": {
  "kernelspec": {
   "display_name": "Python 2",
   "language": "python",
   "name": "python2"
  },
  "language_info": {
   "codemirror_mode": {
    "name": "ipython",
    "version": 2
   },
   "file_extension": ".py",
   "mimetype": "text/x-python",
   "name": "python",
   "nbconvert_exporter": "python",
   "pygments_lexer": "ipython2",
   "version": "2.7.10"
  }
 },
 "nbformat": 4,
 "nbformat_minor": 0
}
