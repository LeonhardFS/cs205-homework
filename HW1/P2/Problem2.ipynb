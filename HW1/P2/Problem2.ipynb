{
 "cells": [
  {
   "cell_type": "markdown",
   "metadata": {},
   "source": [
    "# Problem 2 - Computing the Mandelbrot Set"
   ]
  },
  {
   "cell_type": "markdown",
   "metadata": {},
   "source": [
    "### Problem 2a: Plotting the mandelbrot function using default partitioning"
   ]
  },
  {
   "cell_type": "code",
   "execution_count": 1,
   "metadata": {
    "collapsed": false
   },
   "outputs": [
    {
     "name": "stdout",
     "output_type": "stream",
     "text": [
      "Populating the interactive namespace from numpy and matplotlib\n"
     ]
    }
   ],
   "source": [
    "%pylab inline\n",
    "\n",
    "import findspark\n",
    "findspark.init()\n",
    "\n",
    "from P2 import *\n",
    "from pyspark import SparkContext, SparkConf\n",
    "import seaborn as sns\n",
    "sns.set_style(\"whitegrid\")\n",
    "import matplotlib.ticker as ticker   \n",
    "\n",
    "\n",
    "# setup spark\n",
    "conf = SparkConf().setAppName('Mandelbrot')\n",
    "sc = SparkContext(conf=conf)\n",
    "\n",
    "# create the space (this can be also done using spark's cartesian command)\n",
    "nx, ny = (2000, 2000)\n",
    "x = range(0, nx)\n",
    "y = range(0, ny)\n",
    "\n",
    "xv, yv = np.meshgrid(x, y)\n",
    "\n",
    "# compute coordinate list\n",
    "coords = zip(list(xv.ravel()), list(yv.ravel()))\n",
    "\n"
   ]
  },
  {
   "cell_type": "code",
   "execution_count": 2,
   "metadata": {
    "collapsed": false
   },
   "outputs": [
    {
     "name": "stdout",
     "output_type": "stream",
     "text": [
      "Populating the interactive namespace from numpy and matplotlib\n"
     ]
    },
    {
     "data": {
      "image/png": "[encoded data removed]",
      "text/plain": [
       "<matplotlib.figure.Figure at 0x10fb79150>"
      ]
     },
     "metadata": {},
     "output_type": "display_data"
    }
   ],
   "source": [
    "%pylab inline\n",
    "\n",
    "# create rdd with 100 partitions\n",
    "num_partitions = 100\n",
    "rdd = sc.parallelize(coords, num_partitions)\n",
    "\n",
    "# now map using mandelbrot to ((I, J), V) with (I, J) being the coordinates\n",
    "# and V the value (i.e. iteration number) of the mandelbrot set\n",
    "mb = lambda c: (c, mandelbrot((c[0] / 500.0) - 2.0, (c[1] / 500.0) - 2.0))\n",
    "\n",
    "# apply mandelbrot function mb to the given set\n",
    "rdd = rdd.map(mb)\n",
    "\n",
    "# apply mandelbrot function and draw resulting image\n",
    "draw_image(rdd)\n",
    "\n",
    "# get sum_values_for_partitions and draw a histogram of it\n",
    "data = sum_values_for_partitions(rdd).collect()"
   ]
  },
  {
   "cell_type": "code",
   "execution_count": 3,
   "metadata": {
    "collapsed": false
   },
   "outputs": [
    {
     "data": {
      "image/png": "[encoded data removed]",
      "text/plain": [
       "<matplotlib.figure.Figure at 0x141c6a710>"
      ]
     },
     "metadata": {},
     "output_type": "display_data"
    }
   ],
   "source": [
    "# plot a histogram\n",
    "binwidth = 3 * 10**5\n",
    "\n",
    "fig = plt.figure()\n",
    "ax = fig.add_subplot(111)\n",
    "ax.hist(np.array(data), bins=np.arange(min(data), max(data) + binwidth, binwidth))\n",
    "ax.set_xlabel('total number of iterations in million')\n",
    "ax.set_ylabel('number of partitions')\n",
    "\n",
    "# use the trick from http://stackoverflow.com/questions/10171618/changing-plot-scale-by-a-factor-in-matplotlib\n",
    "# to scale figure in a nicer way\n",
    "scale = 10e6                                                                                                                                                                                                                                                                  \n",
    "ticks = ticker.FuncFormatter(lambda x, pos: '{0:g}'.format(x/scale))                                                                                                                                                                                                           \n",
    "ax.xaxis.set_major_formatter(ticks) \n",
    "\n",
    "# save figure as P2a_hist.png\n",
    "plt.savefig('P2a_hist.png', dpi=120)"
   ]
  },
  {
   "cell_type": "code",
   "execution_count": null,
   "metadata": {
    "collapsed": true
   },
   "outputs": [],
   "source": []
  }
 ],
 "metadata": {
  "kernelspec": {
   "display_name": "Python 2",
   "language": "python",
   "name": "python2"
  },
  "language_info": {
   "codemirror_mode": {
    "name": "ipython",
    "version": 2
   },
   "file_extension": ".py",
   "mimetype": "text/x-python",
   "name": "python",
   "nbconvert_exporter": "python",
   "pygments_lexer": "ipython2",
   "version": "2.7.10"
  }
 },
 "nbformat": 4,
 "nbformat_minor": 0
}
