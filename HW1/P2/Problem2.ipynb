{
 "cells": [
  {
   "cell_type": "markdown",
   "metadata": {},
   "source": [
    "# Problem 2 - Computing the Mandelbrot Set"
   ]
  },
  {
   "cell_type": "markdown",
   "metadata": {},
   "source": [
    "### Problem 2a: Plotting the mandelbrot function using default partitioning"
   ]
  },
  {
   "cell_type": "code",
   "execution_count": 1,
   "metadata": {
    "collapsed": false
   },
   "outputs": [
    {
     "name": "stdout",
     "output_type": "stream",
     "text": [
      "Populating the interactive namespace from numpy and matplotlib\n"
     ]
    }
   ],
   "source": [
    "%pylab inline\n",
    "\n",
    "import findspark\n",
    "findspark.init()\n",
    "\n",
    "from P2 import *\n",
    "from pyspark import SparkContext, SparkConf\n",
    "import seaborn as sns\n",
    "sns.set_style(\"whitegrid\")\n",
    "import matplotlib.ticker as ticker   \n",
    "\n",
    "\n",
    "# setup spark\n",
    "conf = SparkConf().setAppName('Mandelbrot')\n",
    "sc = SparkContext(conf=conf)"
   ]
  },
  {
   "cell_type": "markdown",
   "metadata": {},
   "source": [
    "the following functionis used later in (b)"
   ]
  },
  {
   "cell_type": "code",
   "execution_count": 2,
   "metadata": {
    "collapsed": false
   },
   "outputs": [
    {
     "name": "stdout",
     "output_type": "stream",
     "text": [
      "Populating the interactive namespace from numpy and matplotlib\n"
     ]
    }
   ],
   "source": [
    "%pylab inline\n",
    "\n",
    "# creates a RDD object to pass over to the compute Mandelbrot function\n",
    "def setupMandelbrot():\n",
    "    \n",
    "    # define here count of partitions\n",
    "    num_partitions = 100;\n",
    "    \n",
    "    # create the space (this can be also done using spark's cartesian command)\n",
    "    nx, ny = (2000, 2000)\n",
    "    x = range(0, nx)\n",
    "    y = range(0, ny)\n",
    "\n",
    "    #xv, yv = np.meshgrid(x, y)\n",
    "\n",
    "    # compute coordinate list\n",
    "    #coords = zip(list(xv.ravel()), list(yv.ravel()))\n",
    "    \n",
    "    ## create rdd with 100 partitions\n",
    "    #rdd = sc.parallelize(coords, num_partitions)\n",
    "    \n",
    "    rddX = sc.parallelize(x, int(np.sqrt(num_partitions)))\n",
    "    rddY = sc.parallelize(y, int(np.sqrt(num_partitions)))\n",
    "    rdd = rddX.cartesian(rddY) # to get tuples\n",
    "    \n",
    "    print rdd.getNumPartitions()\n",
    "    \n",
    "    return rdd\n",
    "\n",
    "# given an rdd, this function computes the mandelbrot function\n",
    "# along with a statistic about iterations per partition\n",
    "def computeMandelbrot(rdd):\n",
    "    # now map using mandelbrot to ((I, J), V) with (I, J) being the coordinates\n",
    "    # and V the value (i.e. iteration number) of the mandelbrot set\n",
    "    mb = lambda c: (c, mandelbrot((c[0] / 500.0) - 2.0, (c[1] / 500.0) - 2.0))\n",
    "\n",
    "    # apply mandelbrot function mb to the given set\n",
    "    rdd = rdd.map(mb)\n",
    "\n",
    "    # get sum_values_for_partitions and draw a histogram of it\n",
    "    iteration_stats = sum_values_for_partitions(rdd).collect()\n",
    "    \n",
    "    return (rdd, iteration_stats)"
   ]
  },
  {
   "cell_type": "code",
   "execution_count": 3,
   "metadata": {
    "collapsed": false
   },
   "outputs": [
    {
     "name": "stdout",
     "output_type": "stream",
     "text": [
      "100\n"
     ]
    },
    {
     "data": {
      "image/png": "[encoded data removed]",
      "text/plain": [
       "<matplotlib.figure.Figure at 0x10db34290>"
      ]
     },
     "metadata": {},
     "output_type": "display_data"
    }
   ],
   "source": [
    "rdd = setupMandelbrot()\n",
    "\n",
    "rdd, iteration_stats = computeMandelbrot(rdd)\n",
    "\n",
    "# apply mandelbrot function and draw resulting image\n",
    "im = draw_image(rdd)"
   ]
  },
  {
   "cell_type": "code",
   "execution_count": 46,
   "metadata": {
    "collapsed": false
   },
   "outputs": [],
   "source": [
    "# plot a histogram\n",
    "binwidth = 0.25 * 10**5\n",
    "\n",
    "def plotIterationStats(iteration_stats, savestr):\n",
    "    fig = plt.figure()\n",
    "    ax = fig.add_subplot(111)\n",
    "    ax.hist(np.array(iteration_stats), bins=np.arange(min(iteration_stats), max(iteration_stats) + binwidth, binwidth))\n",
    "    ax.set_xlabel('total number of iterations in million')\n",
    "    ax.set_ylabel('number of partitions')\n",
    "\n",
    "    # use the trick from http://stackoverflow.com/questions/10171618/changing-plot-scale-by-a-factor-in-matplotlib\n",
    "    # to scale figure in a nicer way\n",
    "    scale = 10e6                                                                                                                                                                                                                                                                  \n",
    "    ticks = ticker.FuncFormatter(lambda x, pos: '{0:g}'.format(x/scale))                                                                                                                                                                                                           \n",
    "    ax.xaxis.set_major_formatter(ticks) \n",
    "\n",
    "    # save figure as P2a_hist.png\n",
    "    plt.savefig(savestr, dpi=120)"
   ]
  },
  {
   "cell_type": "markdown",
   "metadata": {},
   "source": [
    "Plotting the number of iterations in a histogram shows, that spark used very unbalanced partitions for the actual calculation"
   ]
  },
  {
   "cell_type": "code",
   "execution_count": 5,
   "metadata": {
    "collapsed": false
   },
   "outputs": [
    {
     "data": {
      "image/png": "[encoded data removed]",
      "text/plain": [
       "<matplotlib.figure.Figure at 0x10dc5b390>"
      ]
     },
     "metadata": {},
     "output_type": "display_data"
    }
   ],
   "source": [
    "plotIterationStats(iteration_stats, 'P2a_hist.png')"
   ]
  },
  {
   "cell_type": "markdown",
   "metadata": {
    "collapsed": true
   },
   "source": [
    "## Problem 2b: Using a better partitioning strategy"
   ]
  },
  {
   "cell_type": "code",
   "execution_count": 6,
   "metadata": {
    "collapsed": true
   },
   "outputs": [],
   "source": [
    "num_partitions = rdd.getNumPartitions()"
   ]
  },
  {
   "cell_type": "markdown",
   "metadata": {},
   "source": [
    "Looking at the picture from Problem 2a, we see that first all there seems to be symmetry. In order to load balance, we essentially want partitions that are larger around black regions and smaller around white regions. To analzye the density of white/black, we use the x-axis and sum up the white values"
   ]
  },
  {
   "cell_type": "code",
   "execution_count": 50,
   "metadata": {
    "collapsed": false
   },
   "outputs": [],
   "source": [
    "C = np.exp(im) -1"
   ]
  },
  {
   "cell_type": "markdown",
   "metadata": {},
   "source": [
    "Now we compute the cumulative iterations along the x-axis and fit then a polynomial to it. This gives us then the information, how much iterations we need"
   ]
  },
  {
   "cell_type": "code",
   "execution_count": 68,
   "metadata": {
    "collapsed": false
   },
   "outputs": [
    {
     "data": {
      "text/plain": [
       "[<matplotlib.lines.Line2D at 0x10f760ad0>]"
      ]
     },
     "execution_count": 68,
     "metadata": {},
     "output_type": "execute_result"
    },
    {
     "data": {
      "image/png": "[encoded data removed]",
      "text/plain": [
       "<matplotlib.figure.Figure at 0x10ee33510>"
      ]
     },
     "metadata": {},
     "output_type": "display_data"
    }
   ],
   "source": [
    "Cy = sum(C, axis=1)\n",
    "Cy = np.cumsum(Cy)\n",
    "plt.plot(Cy)\n",
    "Cx = range(0, C.shape[0])\n",
    "deg = 12\n",
    "\n",
    "# maybe a logit is also a good idea to fit!\n",
    "p = numpy.polyfit(Cx, Cy, deg)\n",
    "\n",
    "p = np.poly1d(p)\n",
    "xp = np.linspace(0, C.shape[0], 200)\n",
    "plt.plot(xp, p(xp))"
   ]
  },
  {
   "cell_type": "markdown",
   "metadata": {},
   "source": [
    "Then we divide the y-space in num-partitions lines. Their intersection with the fittes polynomial yields an x position from which we can compute the width of one partition. We use then this partitions forthe computation."
   ]
  },
  {
   "cell_type": "markdown",
   "metadata": {},
   "source": [
    "The idea is now, to first estimate the polynomial by fitting it to a at lower resolution computed curve. Then we use this approximation at a higher level"
   ]
  },
  {
   "cell_type": "markdown",
   "metadata": {},
   "source": [
    "## Random partitioning"
   ]
  },
  {
   "cell_type": "markdown",
   "metadata": {},
   "source": [
    "One of the easiest ways to speedup computation is by using a random partitioning."
   ]
  },
  {
   "cell_type": "code",
   "execution_count": 36,
   "metadata": {
    "collapsed": false
   },
   "outputs": [],
   "source": [
    "# define a custom partitioner function\n",
    "def randomPartition(key): \n",
    "\n",
    "    # return a partition id 0, ..., num_partitions-1 random\n",
    "    return np.random.randint(num_partitions)\n"
   ]
  },
  {
   "cell_type": "code",
   "execution_count": 37,
   "metadata": {
    "collapsed": true
   },
   "outputs": [],
   "source": [
    "# # define a custom partitioner function\n",
    "# def randomPartition(key): \n",
    "#     # in our case key is a tuple of x/y coordinates\n",
    "#     x, y = key\n",
    "\n",
    "#     i = (x + 2) * 500\n",
    "#     j = (y + 2) * 500\n",
    "\n",
    "#     # first idea is to use x for partitioning\n",
    "#     # use last modulo for security reasons\n",
    "#     return np.random.randint(num_partitions)\n"
   ]
  },
  {
   "cell_type": "code",
   "execution_count": 38,
   "metadata": {
    "collapsed": false
   },
   "outputs": [
    {
     "name": "stdout",
     "output_type": "stream",
     "text": [
      "CPU times: user 2 µs, sys: 1 µs, total: 3 µs\n",
      "Wall time: 5.01 µs\n",
      "100\n"
     ]
    },
    {
     "data": {
      "text/plain": [
       "[(0, 115),\n",
       " (1, 174),\n",
       " (2, 72),\n",
       " (3, 72),\n",
       " (3, 134),\n",
       " (4, 121),\n",
       " (5, 148),\n",
       " (5, 154),\n",
       " (6, 86),\n",
       " (6, 90)]"
      ]
     },
     "execution_count": 38,
     "metadata": {},
     "output_type": "execute_result"
    }
   ],
   "source": [
    "%time\n",
    "rdd = setupMandelbrot()\n",
    "\n",
    "# see https://spark.apache.org/docs/1.1.1/api/python/pyspark.rdd.RDD-class.html#partitionBy\n",
    "rdd = rdd.partitionBy(num_partitions, partitionFunc=randomPartition)\n",
    "\n",
    "rdd.take(10)"
   ]
  },
  {
   "cell_type": "code",
   "execution_count": 39,
   "metadata": {
    "collapsed": false
   },
   "outputs": [],
   "source": [
    "rdd, iteration_stats = computeMandelbrot(rdd)"
   ]
  },
  {
   "cell_type": "code",
   "execution_count": 47,
   "metadata": {
    "collapsed": false
   },
   "outputs": [
    {
     "data": {
      "image/png": "[encoded data removed]",
      "text/plain": [
       "<matplotlib.figure.Figure at 0x10e17af50>"
      ]
     },
     "metadata": {},
     "output_type": "display_data"
    }
   ],
   "source": [
    "plotIterationStats(iteration_stats, 'P2b_hist.png')"
   ]
  },
  {
   "cell_type": "markdown",
   "metadata": {
    "collapsed": true
   },
   "source": [
    "As the plot shows, this method is really good!"
   ]
  },
  {
   "cell_type": "code",
   "execution_count": null,
   "metadata": {
    "collapsed": true
   },
   "outputs": [],
   "source": []
  }
 ],
 "metadata": {
  "kernelspec": {
   "display_name": "Python 2",
   "language": "python",
   "name": "python2"
  },
  "language_info": {
   "codemirror_mode": {
    "name": "ipython",
    "version": 2
   },
   "file_extension": ".py",
   "mimetype": "text/x-python",
   "name": "python",
   "nbconvert_exporter": "python",
   "pygments_lexer": "ipython2",
   "version": "2.7.10"
  }
 },
 "nbformat": 4,
 "nbformat_minor": 0
}
