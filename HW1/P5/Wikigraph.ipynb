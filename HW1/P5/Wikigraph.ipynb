{
 "cells": [
  {
   "cell_type": "code",
   "execution_count": 1,
   "metadata": {
    "collapsed": true
   },
   "outputs": [],
   "source": [
    "import findspark\n",
    "findspark.init()\n",
    "\n",
    "from pyspark import SparkContext, SparkConf\n",
    "import seaborn as sns\n",
    "sns.set_style(\"whitegrid\")\n",
    "import matplotlib.ticker as ticker   \n",
    "\n",
    "\n",
    "# setup spark\n",
    "conf = SparkConf().setAppName('WikiGraph')\n",
    "sc = SparkContext(conf=conf)\n",
    "#from P5_bfs import *\n",
    "\n",
    "import pandas as pd"
   ]
  },
  {
   "cell_type": "code",
   "execution_count": 2,
   "metadata": {
    "collapsed": true
   },
   "outputs": [],
   "source": [
    "# paths to the big data files\n",
    "datapath = '../../../../../courses/CS205_Computing_Foundations/data/'\n",
    "titlespath = datapath + 'titles-sorted.txt'\n",
    "linkspath = datapath + 'links-simple-sorted.txt'"
   ]
  },
  {
   "cell_type": "code",
   "execution_count": 3,
   "metadata": {
    "collapsed": false
   },
   "outputs": [],
   "source": [
    "rddTitles = sc.textFile(titlespath)\n",
    "rddGraph = sc.textFile(linkspath)\n",
    "\n",
    "# prepare Graph into adjacency list structure\n",
    "rddGraph = rddGraph.map(lambda x: x.replace(':', '').split(' ')).map(lambda x: (int(x[0]), [int(y) for y in x[1:]]))"
   ]
  },
  {
   "cell_type": "code",
   "execution_count": 4,
   "metadata": {
    "collapsed": false
   },
   "outputs": [
    {
     "data": {
      "text/plain": [
       "[u'!', u'!!', u'!!!', u'!!!!', u'!!!Fuck_You!!!']"
      ]
     },
     "execution_count": 4,
     "metadata": {},
     "output_type": "execute_result"
    }
   ],
   "source": [
    "rddTitles.take(5)\n"
   ]
  },
  {
   "cell_type": "code",
   "execution_count": 5,
   "metadata": {
    "collapsed": false
   },
   "outputs": [],
   "source": [
    "rddTitles = rddTitles.zipWithIndex().map(lambda x: (x[0], x[1] + 1)).cache()"
   ]
  },
  {
   "cell_type": "code",
   "execution_count": 6,
   "metadata": {
    "collapsed": false
   },
   "outputs": [
    {
     "data": {
      "text/plain": [
       "[(u'!', 1), (u'!!', 2), (u'!!!', 3), (u'!!!!', 4), (u'!!!Fuck_You!!!', 5)]"
      ]
     },
     "execution_count": 6,
     "metadata": {},
     "output_type": "execute_result"
    }
   ],
   "source": [
    "rddTitles.take(5)"
   ]
  },
  {
   "cell_type": "code",
   "execution_count": 7,
   "metadata": {
    "collapsed": false
   },
   "outputs": [],
   "source": [
    "# lookup a title (its index)\n",
    "keyString = 'Kevin_Bacon'\n",
    "v0 = rddTitles.filter(lambda x: x[0] == keyString).collect()[0][1]\n",
    "\n",
    "keyString = 'Harvard_University'\n",
    "vT = rddTitles.filter(lambda x: x[0] == keyString).collect()[0][1] "
   ]
  },
  {
   "cell_type": "code",
   "execution_count": 8,
   "metadata": {
    "collapsed": false
   },
   "outputs": [
    {
     "data": {
      "text/plain": [
       "2729536"
      ]
     },
     "execution_count": 8,
     "metadata": {},
     "output_type": "execute_result"
    }
   ],
   "source": [
    "v0"
   ]
  },
  {
   "cell_type": "code",
   "execution_count": 9,
   "metadata": {
    "collapsed": false
   },
   "outputs": [
    {
     "data": {
      "text/plain": [
       "2152782"
      ]
     },
     "execution_count": 9,
     "metadata": {},
     "output_type": "execute_result"
    }
   ],
   "source": [
    "vT"
   ]
  },
  {
   "cell_type": "code",
   "execution_count": 10,
   "metadata": {
    "collapsed": true
   },
   "outputs": [],
   "source": [
    "# compute shortest path!\n",
    "from P5_sssp import *"
   ]
  },
  {
   "cell_type": "code",
   "execution_count": 11,
   "metadata": {
    "collapsed": true
   },
   "outputs": [],
   "source": [
    "num_visited_nodes, rddPaths = sparkSSSP(sc, rddGraph, v0, vT, 20)"
   ]
  },
  {
   "cell_type": "code",
   "execution_count": 12,
   "metadata": {
    "collapsed": true
   },
   "outputs": [],
   "source": [
    "resultPaths = rddPaths.collect()"
   ]
  },
  {
   "cell_type": "code",
   "execution_count": 13,
   "metadata": {
    "collapsed": false
   },
   "outputs": [
    {
     "data": {
      "text/plain": [
       "[[2729536, 3229511, 2152782],\n",
       " [2729536, 4625677, 2152782],\n",
       " [2729536, 2578703, 2152782],\n",
       " [2729536, 5114592, 2152782],\n",
       " [2729536, 1124925, 2152782]]"
      ]
     },
     "execution_count": 13,
     "metadata": {},
     "output_type": "execute_result"
    }
   ],
   "source": [
    "resultPaths"
   ]
  },
  {
   "cell_type": "code",
   "execution_count": 14,
   "metadata": {
    "collapsed": true
   },
   "outputs": [],
   "source": [
    "rddLookup = sc.parallelize(resultPaths)"
   ]
  },
  {
   "cell_type": "code",
   "execution_count": 15,
   "metadata": {
    "collapsed": false
   },
   "outputs": [
    {
     "data": {
      "text/plain": [
       "[[2729536, 3229511, 2152782],\n",
       " [2729536, 4625677, 2152782],\n",
       " [2729536, 2578703, 2152782],\n",
       " [2729536, 5114592, 2152782],\n",
       " [2729536, 1124925, 2152782]]"
      ]
     },
     "execution_count": 15,
     "metadata": {},
     "output_type": "execute_result"
    }
   ],
   "source": [
    "rddLookup.take(5)"
   ]
  },
  {
   "cell_type": "code",
   "execution_count": 23,
   "metadata": {
    "collapsed": false
   },
   "outputs": [
    {
     "data": {
      "text/plain": [
       "[[u'Kevin_Bacon', u'Harvard_University', u'Marisa_Silver'],\n",
       " [u'Kevin_Bacon', u'Six_degrees_of_separation', u'Harvard_University'],\n",
       " [u'Kevin_Bacon', u'Harvard_University', u'John_Lithgow'],\n",
       " [u'Time_(magazine)', u'Kevin_Bacon', u'Harvard_University'],\n",
       " [u'Kevin_Bacon', u'College_Bowl', u'Harvard_University']]"
      ]
     },
     "execution_count": 23,
     "metadata": {},
     "output_type": "execute_result"
    }
   ],
   "source": [
    "#rddLookup.zipWithIndex().flatMap(lambda x: [(y, x[1]+1) for y in x[0]]).join(rddTitles.map(lambda x: (x[1], x[0]))).map(lambda x: (x[1][0], x[1][1])).groupByKey().map(lambda x: list(x[1])).collect()"
   ]
  },
  {
   "cell_type": "code",
   "execution_count": 41,
   "metadata": {
    "collapsed": false
   },
   "outputs": [
    {
     "data": {
      "text/plain": [
       "[(2729536, (1, 1)),\n",
       " (3229511, (1, 2)),\n",
       " (2152782, (1, 3)),\n",
       " (2729536, (2, 1)),\n",
       " (4625677, (2, 2)),\n",
       " (2152782, (2, 3)),\n",
       " (2729536, (3, 1)),\n",
       " (2578703, (3, 2)),\n",
       " (2152782, (3, 3)),\n",
       " (2729536, (4, 1)),\n",
       " (5114592, (4, 2)),\n",
       " (2152782, (4, 3)),\n",
       " (2729536, (5, 1)),\n",
       " (1124925, (5, 2)),\n",
       " (2152782, (5, 3))]"
      ]
     },
     "execution_count": 41,
     "metadata": {},
     "output_type": "execute_result"
    }
   ],
   "source": [
    "rddLookup.zipWithIndex().flatMap(lambda x: [(y, (x[1]+1, i)) for i, y in enumerate(x[0], 1)])rddLookup.zipWithIndex().flatMap(lambda x: [(y, (x[1]+1, i)) for i, y in enumerate(x[0], 1)]).collect()"
   ]
  },
  {
   "cell_type": "code",
   "execution_count": 45,
   "metadata": {
    "collapsed": false
   },
   "outputs": [],
   "source": [
    "# for better performance on join, \n",
    "rddLookup.cache()\n",
    "nodesOfInterest = rddLookup.flatMap(lambda x: x).distinct().collect()\n",
    "selectedTitles = rddTitles.filter(lambda x: x[1] in nodesOfInterest).map(lambda x: (x[1], x[0]))"
   ]
  },
  {
   "cell_type": "code",
   "execution_count": 56,
   "metadata": {
    "collapsed": false
   },
   "outputs": [
    {
     "data": {
      "text/plain": [
       "[(u'Kevin_Bacon', u'Marisa_Silver', u'Harvard_University'),\n",
       " (u'Kevin_Bacon', u'Six_degrees_of_separation', u'Harvard_University'),\n",
       " (u'Kevin_Bacon', u'John_Lithgow', u'Harvard_University'),\n",
       " (u'Kevin_Bacon', u'Time_(magazine)', u'Harvard_University'),\n",
       " (u'Kevin_Bacon', u'College_Bowl', u'Harvard_University')]"
      ]
     },
     "execution_count": 56,
     "metadata": {},
     "output_type": "execute_result"
    }
   ],
   "source": [
    "rddLookup.zipWithIndex() \\\n",
    "         .flatMap(lambda x: [(y, (x[1]+1, i)) for i, y in enumerate(x[0], 1)]) \\\n",
    "         .join(selectedTitles) \\\n",
    "         .map(lambda x: (x[1][0][0], (x[1][0][1], x[1][1]))) \\\n",
    "         .groupByKey().map(lambda x: zip(*sorted(list(x[1])))[1]).collect()\n",
    "         "
   ]
  },
  {
   "cell_type": "code",
   "execution_count": 58,
   "metadata": {
    "collapsed": false
   },
   "outputs": [],
   "source": [
    "test = [(u'Kevin_Bacon', u'Marisa_Silver', u'Harvard_University'),\n",
    " (u'Kevin_Bacon', u'Six_degrees_of_separation', u'Harvard_University'),\n",
    " (u'Kevin_Bacon', u'John_Lithgow', u'Harvard_University'),\n",
    " (u'Kevin_Bacon', u'Time_(magazine)', u'Harvard_University'),\n",
    " (u'Kevin_Bacon', u'College_Bowl', u'Harvard_University')]"
   ]
  },
  {
   "cell_type": "code",
   "execution_count": 59,
   "metadata": {
    "collapsed": false
   },
   "outputs": [
    {
     "data": {
      "text/plain": [
       "[(u'Kevin_Bacon', u'Marisa_Silver', u'Harvard_University'),\n",
       " (u'Kevin_Bacon', u'Six_degrees_of_separation', u'Harvard_University'),\n",
       " (u'Kevin_Bacon', u'John_Lithgow', u'Harvard_University'),\n",
       " (u'Kevin_Bacon', u'Time_(magazine)', u'Harvard_University'),\n",
       " (u'Kevin_Bacon', u'College_Bowl', u'Harvard_University')]"
      ]
     },
     "execution_count": 59,
     "metadata": {},
     "output_type": "execute_result"
    }
   ],
   "source": [
    "test"
   ]
  },
  {
   "cell_type": "code",
   "execution_count": 69,
   "metadata": {
    "collapsed": false
   },
   "outputs": [],
   "source": [
    "startTitle  = 'Kevin_Bacon'\n",
    "targetTitle = 'Harvard_University'\n",
    "\n",
    "with open('output.txt', 'wb') as f:\n",
    "\tf.write('Shortest paths from %s to %s:\\n\\n' % (startTitle, targetTitle))\n",
    "\tfor path in test:\n",
    "            path = list(path) \n",
    "            f.write(path[0])\n",
    "            for node in path[1:]:\n",
    "                f.write(' -> ' + node)\n",
    "            f.write('\\n')"
   ]
  },
  {
   "cell_type": "code",
   "execution_count": null,
   "metadata": {
    "collapsed": true
   },
   "outputs": [],
   "source": []
  }
 ],
 "metadata": {
  "kernelspec": {
   "display_name": "Python 2",
   "language": "python",
   "name": "python2"
  },
  "language_info": {
   "codemirror_mode": {
    "name": "ipython",
    "version": 2
   },
   "file_extension": ".py",
   "mimetype": "text/x-python",
   "name": "python",
   "nbconvert_exporter": "python",
   "pygments_lexer": "ipython2",
   "version": "2.7.10"
  }
 },
 "nbformat": 4,
 "nbformat_minor": 0
}
